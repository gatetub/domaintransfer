{
  "metadata": {
    "kernelspec": {
      "language": "python",
      "display_name": "Python 3",
      "name": "python3"
    },
    "language_info": {
      "name": "python",
      "version": "3.7.6",
      "mimetype": "text/x-python",
      "codemirror_mode": {
        "name": "ipython",
        "version": 3
      },
      "pygments_lexer": "ipython3",
      "nbconvert_exporter": "python",
      "file_extension": ".py"
    },
    "kaggle": {
      "accelerator": "none",
      "dataSources": [
        {
          "sourceId": 3004,
          "databundleVersionId": 861823,
          "sourceType": "competition"
        },
        {
          "sourceId": 76002,
          "sourceType": "datasetVersion",
          "datasetId": 42853
        },
        {
          "sourceId": 3450281,
          "sourceType": "datasetVersion",
          "datasetId": 1282332
        },
        {
          "sourceId": 6243656,
          "sourceType": "datasetVersion",
          "datasetId": 3587583
        }
      ],
      "isInternetEnabled": true,
      "language": "python",
      "sourceType": "notebook",
      "isGpuEnabled": false
    },
    "colab": {
      "provenance": []
    }
  },
  "nbformat_minor": 0,
  "nbformat": 4,
  "cells": [
    {
      "source": [
        "import kagglehub\n",
        "\n",
        "mnist_path = kagglehub.dataset_download('avnishnish/mnist-original')\n",
        "film_image_path = kagglehub.dataset_download('brendan45774/film-image')\n",
        "xor_dataset_path = kagglehub.dataset_download('martininf1n1ty/exclusive-xor-dataset')\n",
        "\n",
        "print('Data source import complete.')\n"
      ],
      "metadata": {
        "id": "Zqe3WQbz6_h4",
        "outputId": "68f06b0c-fea1-483b-c0b9-b1040e50e0e8",
        "colab": {
          "base_uri": "https://localhost:8080/"
        }
      },
      "cell_type": "code",
      "outputs": [
        {
          "output_type": "stream",
          "name": "stdout",
          "text": [
            "Warning: Looks like you're using an outdated `kagglehub` version (installed: 0.3.5), please consider upgrading to the latest version (0.3.6).\n",
            "Downloading from https://www.kaggle.com/api/v1/datasets/download/avnishnish/mnist-original?dataset_version_number=1...\n"
          ]
        },
        {
          "output_type": "stream",
          "name": "stderr",
          "text": [
            "100%|██████████| 10.9M/10.9M [00:01<00:00, 8.63MB/s]"
          ]
        },
        {
          "output_type": "stream",
          "name": "stdout",
          "text": [
            "Extracting files...\n"
          ]
        },
        {
          "output_type": "stream",
          "name": "stderr",
          "text": [
            "\n"
          ]
        },
        {
          "output_type": "stream",
          "name": "stdout",
          "text": [
            "Warning: Looks like you're using an outdated `kagglehub` version (installed: 0.3.5), please consider upgrading to the latest version (0.3.6).\n",
            "Downloading from https://www.kaggle.com/api/v1/datasets/download/brendan45774/film-image?dataset_version_number=24...\n"
          ]
        },
        {
          "output_type": "stream",
          "name": "stderr",
          "text": [
            "100%|██████████| 1.67M/1.67M [00:00<00:00, 1.91MB/s]"
          ]
        },
        {
          "output_type": "stream",
          "name": "stdout",
          "text": [
            "Extracting files...\n"
          ]
        },
        {
          "output_type": "stream",
          "name": "stderr",
          "text": [
            "\n"
          ]
        },
        {
          "output_type": "stream",
          "name": "stdout",
          "text": [
            "Warning: Looks like you're using an outdated `kagglehub` version (installed: 0.3.5), please consider upgrading to the latest version (0.3.6).\n",
            "Downloading from https://www.kaggle.com/api/v1/datasets/download/martininf1n1ty/exclusive-xor-dataset?dataset_version_number=1...\n"
          ]
        },
        {
          "output_type": "stream",
          "name": "stderr",
          "text": [
            "100%|██████████| 21.0k/21.0k [00:00<00:00, 15.0MB/s]"
          ]
        },
        {
          "output_type": "stream",
          "name": "stdout",
          "text": [
            "Extracting files...\n",
            "Data source import complete.\n"
          ]
        },
        {
          "output_type": "stream",
          "name": "stderr",
          "text": [
            "\n"
          ]
        }
      ],
      "execution_count": null
    },
    {
      "cell_type": "markdown",
      "source": [
        "## Import libraries"
      ],
      "metadata": {
        "id": "nK4UMnZv6_h6"
      }
    },
    {
      "cell_type": "code",
      "source": [
        "# Install PyTorch (if needed)\n",
        "# !pip install torch torchvision matplotlib\n",
        "\n",
        "# Import libraries\n",
        "import torch\n",
        "import torch.nn as nn\n",
        "import torch.optim as optim\n",
        "import torch.nn.functional as F\n",
        "import torchvision\n",
        "from torchvision import datasets, transforms, models\n",
        "import torchvision.transforms as transforms\n",
        "import matplotlib.pyplot as plt\n",
        "import numpy as np\n",
        "import pandas as pd\n",
        "import cv2\n",
        "\n",
        "from sklearn.model_selection import train_test_split\n",
        "\n",
        "import warnings\n",
        "warnings.filterwarnings(\"ignore\")\n"
      ],
      "metadata": {
        "trusted": true,
        "execution": {
          "iopub.status.busy": "2025-01-08T06:32:51.186091Z",
          "iopub.execute_input": "2025-01-08T06:32:51.186606Z",
          "iopub.status.idle": "2025-01-08T06:32:51.19402Z",
          "shell.execute_reply.started": "2025-01-08T06:32:51.186566Z",
          "shell.execute_reply": "2025-01-08T06:32:51.192265Z"
        },
        "id": "Jh61O6ul6_h8"
      },
      "outputs": [],
      "execution_count": null
    },
    {
      "cell_type": "markdown",
      "source": [
        "## Basic Tensor Operations"
      ],
      "metadata": {
        "id": "kLf1biv56_h9"
      }
    },
    {
      "cell_type": "code",
      "source": [
        "import torch\n",
        "\n",
        "# Create a tensor\n",
        "x = torch.tensor([[1, 3,-1], [3, 4,0]])\n",
        "y = torch.tensor([[5, 6,8], [7, 8,4]])\n",
        "print(\"Tensor x:\\n\", x)\n",
        "print(\"Tensor y:\\n\", y)"
      ],
      "metadata": {
        "trusted": true,
        "execution": {
          "iopub.status.busy": "2025-01-08T06:06:13.235922Z",
          "iopub.execute_input": "2025-01-08T06:06:13.23632Z",
          "iopub.status.idle": "2025-01-08T06:06:13.246061Z",
          "shell.execute_reply.started": "2025-01-08T06:06:13.236277Z",
          "shell.execute_reply": "2025-01-08T06:06:13.24462Z"
        },
        "id": "wUNVnuEd6_h-",
        "outputId": "4e2dfa20-3575-4bd5-a0d7-b74db132befd",
        "colab": {
          "base_uri": "https://localhost:8080/"
        }
      },
      "outputs": [
        {
          "output_type": "stream",
          "name": "stdout",
          "text": [
            "Tensor x:\n",
            " tensor([[ 1,  3, -1],\n",
            "        [ 3,  4,  0]])\n",
            "Tensor y:\n",
            " tensor([[5, 6, 8],\n",
            "        [7, 8, 4]])\n"
          ]
        }
      ],
      "execution_count": null
    },
    {
      "cell_type": "code",
      "source": [
        "# Element-wise addition\n",
        "z = x + y\n",
        "print(\"x + y:\\n\", z)"
      ],
      "metadata": {
        "trusted": true,
        "execution": {
          "iopub.status.busy": "2025-01-08T06:06:13.665384Z",
          "iopub.execute_input": "2025-01-08T06:06:13.665741Z",
          "iopub.status.idle": "2025-01-08T06:06:13.671656Z",
          "shell.execute_reply.started": "2025-01-08T06:06:13.665711Z",
          "shell.execute_reply": "2025-01-08T06:06:13.670614Z"
        },
        "id": "KX053DHn6_iA",
        "outputId": "ee71267c-0663-41da-b91c-6eb1c5eb1c0b",
        "colab": {
          "base_uri": "https://localhost:8080/"
        }
      },
      "outputs": [
        {
          "output_type": "stream",
          "name": "stdout",
          "text": [
            "x + y:\n",
            " tensor([[ 6,  9,  7],\n",
            "        [10, 12,  4]])\n"
          ]
        }
      ],
      "execution_count": null
    },
    {
      "cell_type": "code",
      "source": [
        "# Transpose of tensor\n",
        "\n",
        "y.T"
      ],
      "metadata": {
        "trusted": true,
        "execution": {
          "iopub.status.busy": "2025-01-08T06:06:14.295806Z",
          "iopub.execute_input": "2025-01-08T06:06:14.296177Z",
          "iopub.status.idle": "2025-01-08T06:06:14.30513Z",
          "shell.execute_reply.started": "2025-01-08T06:06:14.296147Z",
          "shell.execute_reply": "2025-01-08T06:06:14.304194Z"
        },
        "id": "x9yLDPdG6_iC",
        "outputId": "9c40d692-6ff0-412f-ec13-5d600ad045fa",
        "colab": {
          "base_uri": "https://localhost:8080/"
        }
      },
      "outputs": [
        {
          "output_type": "execute_result",
          "data": {
            "text/plain": [
              "tensor([[5, 7],\n",
              "        [6, 8],\n",
              "        [8, 4]])"
            ]
          },
          "metadata": {},
          "execution_count": 62
        }
      ],
      "execution_count": null
    },
    {
      "cell_type": "code",
      "source": [
        "# Matrix multiplication\n",
        "w = torch.matmul(x, y.T)\n",
        "print(\"Matrix multiplication (x @ y):\\n\", w)\n"
      ],
      "metadata": {
        "trusted": true,
        "execution": {
          "iopub.status.busy": "2025-01-08T06:06:14.548873Z",
          "iopub.execute_input": "2025-01-08T06:06:14.54926Z",
          "iopub.status.idle": "2025-01-08T06:06:14.564574Z",
          "shell.execute_reply.started": "2025-01-08T06:06:14.549206Z",
          "shell.execute_reply": "2025-01-08T06:06:14.563719Z"
        },
        "id": "lgofQBpp6_iD",
        "outputId": "97cbd0e8-f459-442b-fcdd-6695574845c9",
        "colab": {
          "base_uri": "https://localhost:8080/"
        }
      },
      "outputs": [
        {
          "output_type": "stream",
          "name": "stdout",
          "text": [
            "Matrix multiplication (x @ y):\n",
            " tensor([[15, 27],\n",
            "        [39, 53]])\n"
          ]
        }
      ],
      "execution_count": null
    },
    {
      "cell_type": "code",
      "source": [
        "# Reshape a tensor\n",
        "x_reshaped = x.reshape(3,2)\n",
        "print(\"Reshaped x:\\n\", x_reshaped)\n",
        "x_reshaped.shape"
      ],
      "metadata": {
        "trusted": true,
        "execution": {
          "iopub.status.busy": "2025-01-08T06:06:14.818838Z",
          "iopub.execute_input": "2025-01-08T06:06:14.819223Z",
          "iopub.status.idle": "2025-01-08T06:06:14.827004Z",
          "shell.execute_reply.started": "2025-01-08T06:06:14.819188Z",
          "shell.execute_reply": "2025-01-08T06:06:14.825777Z"
        },
        "id": "kmH5jtF86_iE",
        "outputId": "4e78a134-6aee-47eb-becd-075afb176a42",
        "colab": {
          "base_uri": "https://localhost:8080/"
        }
      },
      "outputs": [
        {
          "output_type": "stream",
          "name": "stdout",
          "text": [
            "Reshaped x:\n",
            " tensor([[ 1,  3],\n",
            "        [-1,  3],\n",
            "        [ 4,  0]])\n"
          ]
        },
        {
          "output_type": "execute_result",
          "data": {
            "text/plain": [
              "torch.Size([3, 2])"
            ]
          },
          "metadata": {},
          "execution_count": 64
        }
      ],
      "execution_count": null
    },
    {
      "cell_type": "code",
      "source": [
        "y_reshaped = y.reshape(-1,2)\n",
        "print(\"Reshaped y:\\n\", y_reshaped)\n",
        "y_reshaped.shape"
      ],
      "metadata": {
        "trusted": true,
        "execution": {
          "iopub.status.busy": "2025-01-08T06:06:15.096148Z",
          "iopub.execute_input": "2025-01-08T06:06:15.096541Z",
          "iopub.status.idle": "2025-01-08T06:06:15.103467Z",
          "shell.execute_reply.started": "2025-01-08T06:06:15.096507Z",
          "shell.execute_reply": "2025-01-08T06:06:15.102607Z"
        },
        "id": "9fX54jST6_iF",
        "outputId": "e9c0a050-a951-46b4-9884-f818ee5d6a0b",
        "colab": {
          "base_uri": "https://localhost:8080/"
        }
      },
      "outputs": [
        {
          "output_type": "stream",
          "name": "stdout",
          "text": [
            "Reshaped y:\n",
            " tensor([[5, 6],\n",
            "        [8, 7],\n",
            "        [8, 4]])\n"
          ]
        },
        {
          "output_type": "execute_result",
          "data": {
            "text/plain": [
              "torch.Size([3, 2])"
            ]
          },
          "metadata": {},
          "execution_count": 65
        }
      ],
      "execution_count": null
    },
    {
      "cell_type": "code",
      "source": [
        "y_reshaped = y.reshape(-1)\n",
        "print(\"Reshaped y:\\n\", y_reshaped)\n",
        "y_reshaped.shape"
      ],
      "metadata": {
        "trusted": true,
        "execution": {
          "iopub.status.busy": "2025-01-08T06:06:15.376266Z",
          "iopub.execute_input": "2025-01-08T06:06:15.37665Z",
          "iopub.status.idle": "2025-01-08T06:06:15.385197Z",
          "shell.execute_reply.started": "2025-01-08T06:06:15.376613Z",
          "shell.execute_reply": "2025-01-08T06:06:15.383964Z"
        },
        "id": "2IXHMgXg6_iF",
        "outputId": "ca7da987-694f-4d59-d632-34dfb9c48c77",
        "colab": {
          "base_uri": "https://localhost:8080/"
        }
      },
      "outputs": [
        {
          "output_type": "stream",
          "name": "stdout",
          "text": [
            "Reshaped y:\n",
            " tensor([5, 6, 8, 7, 8, 4])\n"
          ]
        },
        {
          "output_type": "execute_result",
          "data": {
            "text/plain": [
              "torch.Size([6])"
            ]
          },
          "metadata": {},
          "execution_count": 66
        }
      ],
      "execution_count": null
    },
    {
      "cell_type": "markdown",
      "source": [
        "## Building a Simple Neural Network"
      ],
      "metadata": {
        "id": "S3LwknnX6_iG"
      }
    },
    {
      "cell_type": "markdown",
      "source": [
        "### The model\n",
        "\n",
        "The package `torch.nn` defines a series of useful classes like linear networks layers, activation functions, loss functions etc. A full list can be found [here](https://pytorch.org/docs/stable/nn.html). In case you need a certain network layer, check the documentation of the package first before writing the layer yourself as the package likely contains the code for it already. We import it below:"
      ],
      "metadata": {
        "id": "dlUuqnpd6_iG"
      }
    },
    {
      "cell_type": "markdown",
      "source": [
        "#### nn.Module\n",
        "\n",
        "In PyTorch, a neural network is built up out of modules. Modules can contain other modules, and a neural network is considered to be a module itself as well. The basic template of a module is as follows:"
      ],
      "metadata": {
        "id": "OX1Tj1uw6_iH"
      }
    },
    {
      "cell_type": "code",
      "source": [
        "class MyModule(nn.Module):\n",
        "\n",
        "    def __init__(self):\n",
        "        super().__init__()\n",
        "        # Some init for my module\n",
        "\n",
        "    def forward(self, x):\n",
        "        # Function for performing the calculation of the module.\n",
        "        pass"
      ],
      "metadata": {
        "trusted": true,
        "execution": {
          "iopub.status.busy": "2025-01-08T06:06:17.566383Z",
          "iopub.execute_input": "2025-01-08T06:06:17.566733Z",
          "iopub.status.idle": "2025-01-08T06:06:17.572993Z",
          "shell.execute_reply.started": "2025-01-08T06:06:17.566704Z",
          "shell.execute_reply": "2025-01-08T06:06:17.571507Z"
        },
        "id": "jImqkkRv6_iH"
      },
      "outputs": [],
      "execution_count": null
    },
    {
      "cell_type": "code",
      "source": [
        "# Load the XOR dataset from CSV\n",
        "df = pd.read_csv( xor_dataset_path  +\"/xor.csv\" ,  index_col=0)\n",
        "df.head()"
      ],
      "metadata": {
        "trusted": true,
        "execution": {
          "iopub.status.busy": "2025-01-08T06:06:23.5643Z",
          "iopub.execute_input": "2025-01-08T06:06:23.564656Z",
          "iopub.status.idle": "2025-01-08T06:06:23.58166Z",
          "shell.execute_reply.started": "2025-01-08T06:06:23.564625Z",
          "shell.execute_reply": "2025-01-08T06:06:23.580778Z"
        },
        "id": "V03G0c7y6_iH",
        "outputId": "ae898459-5caa-43a5-deee-b1d3cb402acb",
        "colab": {
          "base_uri": "https://localhost:8080/",
          "height": 206
        }
      },
      "outputs": [
        {
          "output_type": "execute_result",
          "data": {
            "text/plain": [
              "         X1        X2  label\n",
              "0  0.295740  0.084965    0.0\n",
              "1  0.071516  0.281896    0.0\n",
              "2  0.167992  0.242829    0.0\n",
              "3  0.007919  0.481756    0.0\n",
              "4  0.100156  0.447592    0.0"
            ],
            "text/html": [
              "\n",
              "  <div id=\"df-a0886288-9297-4eb6-9475-0edbeb21e533\" class=\"colab-df-container\">\n",
              "    <div>\n",
              "<style scoped>\n",
              "    .dataframe tbody tr th:only-of-type {\n",
              "        vertical-align: middle;\n",
              "    }\n",
              "\n",
              "    .dataframe tbody tr th {\n",
              "        vertical-align: top;\n",
              "    }\n",
              "\n",
              "    .dataframe thead th {\n",
              "        text-align: right;\n",
              "    }\n",
              "</style>\n",
              "<table border=\"1\" class=\"dataframe\">\n",
              "  <thead>\n",
              "    <tr style=\"text-align: right;\">\n",
              "      <th></th>\n",
              "      <th>X1</th>\n",
              "      <th>X2</th>\n",
              "      <th>label</th>\n",
              "    </tr>\n",
              "  </thead>\n",
              "  <tbody>\n",
              "    <tr>\n",
              "      <th>0</th>\n",
              "      <td>0.295740</td>\n",
              "      <td>0.084965</td>\n",
              "      <td>0.0</td>\n",
              "    </tr>\n",
              "    <tr>\n",
              "      <th>1</th>\n",
              "      <td>0.071516</td>\n",
              "      <td>0.281896</td>\n",
              "      <td>0.0</td>\n",
              "    </tr>\n",
              "    <tr>\n",
              "      <th>2</th>\n",
              "      <td>0.167992</td>\n",
              "      <td>0.242829</td>\n",
              "      <td>0.0</td>\n",
              "    </tr>\n",
              "    <tr>\n",
              "      <th>3</th>\n",
              "      <td>0.007919</td>\n",
              "      <td>0.481756</td>\n",
              "      <td>0.0</td>\n",
              "    </tr>\n",
              "    <tr>\n",
              "      <th>4</th>\n",
              "      <td>0.100156</td>\n",
              "      <td>0.447592</td>\n",
              "      <td>0.0</td>\n",
              "    </tr>\n",
              "  </tbody>\n",
              "</table>\n",
              "</div>\n",
              "    <div class=\"colab-df-buttons\">\n",
              "\n",
              "  <div class=\"colab-df-container\">\n",
              "    <button class=\"colab-df-convert\" onclick=\"convertToInteractive('df-a0886288-9297-4eb6-9475-0edbeb21e533')\"\n",
              "            title=\"Convert this dataframe to an interactive table.\"\n",
              "            style=\"display:none;\">\n",
              "\n",
              "  <svg xmlns=\"http://www.w3.org/2000/svg\" height=\"24px\" viewBox=\"0 -960 960 960\">\n",
              "    <path d=\"M120-120v-720h720v720H120Zm60-500h600v-160H180v160Zm220 220h160v-160H400v160Zm0 220h160v-160H400v160ZM180-400h160v-160H180v160Zm440 0h160v-160H620v160ZM180-180h160v-160H180v160Zm440 0h160v-160H620v160Z\"/>\n",
              "  </svg>\n",
              "    </button>\n",
              "\n",
              "  <style>\n",
              "    .colab-df-container {\n",
              "      display:flex;\n",
              "      gap: 12px;\n",
              "    }\n",
              "\n",
              "    .colab-df-convert {\n",
              "      background-color: #E8F0FE;\n",
              "      border: none;\n",
              "      border-radius: 50%;\n",
              "      cursor: pointer;\n",
              "      display: none;\n",
              "      fill: #1967D2;\n",
              "      height: 32px;\n",
              "      padding: 0 0 0 0;\n",
              "      width: 32px;\n",
              "    }\n",
              "\n",
              "    .colab-df-convert:hover {\n",
              "      background-color: #E2EBFA;\n",
              "      box-shadow: 0px 1px 2px rgba(60, 64, 67, 0.3), 0px 1px 3px 1px rgba(60, 64, 67, 0.15);\n",
              "      fill: #174EA6;\n",
              "    }\n",
              "\n",
              "    .colab-df-buttons div {\n",
              "      margin-bottom: 4px;\n",
              "    }\n",
              "\n",
              "    [theme=dark] .colab-df-convert {\n",
              "      background-color: #3B4455;\n",
              "      fill: #D2E3FC;\n",
              "    }\n",
              "\n",
              "    [theme=dark] .colab-df-convert:hover {\n",
              "      background-color: #434B5C;\n",
              "      box-shadow: 0px 1px 3px 1px rgba(0, 0, 0, 0.15);\n",
              "      filter: drop-shadow(0px 1px 2px rgba(0, 0, 0, 0.3));\n",
              "      fill: #FFFFFF;\n",
              "    }\n",
              "  </style>\n",
              "\n",
              "    <script>\n",
              "      const buttonEl =\n",
              "        document.querySelector('#df-a0886288-9297-4eb6-9475-0edbeb21e533 button.colab-df-convert');\n",
              "      buttonEl.style.display =\n",
              "        google.colab.kernel.accessAllowed ? 'block' : 'none';\n",
              "\n",
              "      async function convertToInteractive(key) {\n",
              "        const element = document.querySelector('#df-a0886288-9297-4eb6-9475-0edbeb21e533');\n",
              "        const dataTable =\n",
              "          await google.colab.kernel.invokeFunction('convertToInteractive',\n",
              "                                                    [key], {});\n",
              "        if (!dataTable) return;\n",
              "\n",
              "        const docLinkHtml = 'Like what you see? Visit the ' +\n",
              "          '<a target=\"_blank\" href=https://colab.research.google.com/notebooks/data_table.ipynb>data table notebook</a>'\n",
              "          + ' to learn more about interactive tables.';\n",
              "        element.innerHTML = '';\n",
              "        dataTable['output_type'] = 'display_data';\n",
              "        await google.colab.output.renderOutput(dataTable, element);\n",
              "        const docLink = document.createElement('div');\n",
              "        docLink.innerHTML = docLinkHtml;\n",
              "        element.appendChild(docLink);\n",
              "      }\n",
              "    </script>\n",
              "  </div>\n",
              "\n",
              "\n",
              "<div id=\"df-33eda771-b5ee-4f71-9a1e-0429dde54cc2\">\n",
              "  <button class=\"colab-df-quickchart\" onclick=\"quickchart('df-33eda771-b5ee-4f71-9a1e-0429dde54cc2')\"\n",
              "            title=\"Suggest charts\"\n",
              "            style=\"display:none;\">\n",
              "\n",
              "<svg xmlns=\"http://www.w3.org/2000/svg\" height=\"24px\"viewBox=\"0 0 24 24\"\n",
              "     width=\"24px\">\n",
              "    <g>\n",
              "        <path d=\"M19 3H5c-1.1 0-2 .9-2 2v14c0 1.1.9 2 2 2h14c1.1 0 2-.9 2-2V5c0-1.1-.9-2-2-2zM9 17H7v-7h2v7zm4 0h-2V7h2v10zm4 0h-2v-4h2v4z\"/>\n",
              "    </g>\n",
              "</svg>\n",
              "  </button>\n",
              "\n",
              "<style>\n",
              "  .colab-df-quickchart {\n",
              "      --bg-color: #E8F0FE;\n",
              "      --fill-color: #1967D2;\n",
              "      --hover-bg-color: #E2EBFA;\n",
              "      --hover-fill-color: #174EA6;\n",
              "      --disabled-fill-color: #AAA;\n",
              "      --disabled-bg-color: #DDD;\n",
              "  }\n",
              "\n",
              "  [theme=dark] .colab-df-quickchart {\n",
              "      --bg-color: #3B4455;\n",
              "      --fill-color: #D2E3FC;\n",
              "      --hover-bg-color: #434B5C;\n",
              "      --hover-fill-color: #FFFFFF;\n",
              "      --disabled-bg-color: #3B4455;\n",
              "      --disabled-fill-color: #666;\n",
              "  }\n",
              "\n",
              "  .colab-df-quickchart {\n",
              "    background-color: var(--bg-color);\n",
              "    border: none;\n",
              "    border-radius: 50%;\n",
              "    cursor: pointer;\n",
              "    display: none;\n",
              "    fill: var(--fill-color);\n",
              "    height: 32px;\n",
              "    padding: 0;\n",
              "    width: 32px;\n",
              "  }\n",
              "\n",
              "  .colab-df-quickchart:hover {\n",
              "    background-color: var(--hover-bg-color);\n",
              "    box-shadow: 0 1px 2px rgba(60, 64, 67, 0.3), 0 1px 3px 1px rgba(60, 64, 67, 0.15);\n",
              "    fill: var(--button-hover-fill-color);\n",
              "  }\n",
              "\n",
              "  .colab-df-quickchart-complete:disabled,\n",
              "  .colab-df-quickchart-complete:disabled:hover {\n",
              "    background-color: var(--disabled-bg-color);\n",
              "    fill: var(--disabled-fill-color);\n",
              "    box-shadow: none;\n",
              "  }\n",
              "\n",
              "  .colab-df-spinner {\n",
              "    border: 2px solid var(--fill-color);\n",
              "    border-color: transparent;\n",
              "    border-bottom-color: var(--fill-color);\n",
              "    animation:\n",
              "      spin 1s steps(1) infinite;\n",
              "  }\n",
              "\n",
              "  @keyframes spin {\n",
              "    0% {\n",
              "      border-color: transparent;\n",
              "      border-bottom-color: var(--fill-color);\n",
              "      border-left-color: var(--fill-color);\n",
              "    }\n",
              "    20% {\n",
              "      border-color: transparent;\n",
              "      border-left-color: var(--fill-color);\n",
              "      border-top-color: var(--fill-color);\n",
              "    }\n",
              "    30% {\n",
              "      border-color: transparent;\n",
              "      border-left-color: var(--fill-color);\n",
              "      border-top-color: var(--fill-color);\n",
              "      border-right-color: var(--fill-color);\n",
              "    }\n",
              "    40% {\n",
              "      border-color: transparent;\n",
              "      border-right-color: var(--fill-color);\n",
              "      border-top-color: var(--fill-color);\n",
              "    }\n",
              "    60% {\n",
              "      border-color: transparent;\n",
              "      border-right-color: var(--fill-color);\n",
              "    }\n",
              "    80% {\n",
              "      border-color: transparent;\n",
              "      border-right-color: var(--fill-color);\n",
              "      border-bottom-color: var(--fill-color);\n",
              "    }\n",
              "    90% {\n",
              "      border-color: transparent;\n",
              "      border-bottom-color: var(--fill-color);\n",
              "    }\n",
              "  }\n",
              "</style>\n",
              "\n",
              "  <script>\n",
              "    async function quickchart(key) {\n",
              "      const quickchartButtonEl =\n",
              "        document.querySelector('#' + key + ' button');\n",
              "      quickchartButtonEl.disabled = true;  // To prevent multiple clicks.\n",
              "      quickchartButtonEl.classList.add('colab-df-spinner');\n",
              "      try {\n",
              "        const charts = await google.colab.kernel.invokeFunction(\n",
              "            'suggestCharts', [key], {});\n",
              "      } catch (error) {\n",
              "        console.error('Error during call to suggestCharts:', error);\n",
              "      }\n",
              "      quickchartButtonEl.classList.remove('colab-df-spinner');\n",
              "      quickchartButtonEl.classList.add('colab-df-quickchart-complete');\n",
              "    }\n",
              "    (() => {\n",
              "      let quickchartButtonEl =\n",
              "        document.querySelector('#df-33eda771-b5ee-4f71-9a1e-0429dde54cc2 button');\n",
              "      quickchartButtonEl.style.display =\n",
              "        google.colab.kernel.accessAllowed ? 'block' : 'none';\n",
              "    })();\n",
              "  </script>\n",
              "</div>\n",
              "\n",
              "    </div>\n",
              "  </div>\n"
            ],
            "application/vnd.google.colaboratory.intrinsic+json": {
              "type": "dataframe",
              "variable_name": "df",
              "summary": "{\n  \"name\": \"df\",\n  \"rows\": 1000,\n  \"fields\": [\n    {\n      \"column\": \"X1\",\n      \"properties\": {\n        \"dtype\": \"number\",\n        \"std\": 0.2899033882205785,\n        \"min\": 0.0027897897067156,\n        \"max\": 0.9997603039841824,\n        \"num_unique_values\": 1000,\n        \"samples\": [\n          0.2684968435035585,\n          0.2395738817160947,\n          0.3160793246068254\n        ],\n        \"semantic_type\": \"\",\n        \"description\": \"\"\n      }\n    },\n    {\n      \"column\": \"X2\",\n      \"properties\": {\n        \"dtype\": \"number\",\n        \"std\": 0.2925096925780322,\n        \"min\": 0.0007651499302185,\n        \"max\": 0.9975616249541156,\n        \"num_unique_values\": 1000,\n        \"samples\": [\n          0.8620549725872069,\n          0.9348686599740348,\n          0.944233472293676\n        ],\n        \"semantic_type\": \"\",\n        \"description\": \"\"\n      }\n    },\n    {\n      \"column\": \"label\",\n      \"properties\": {\n        \"dtype\": \"number\",\n        \"std\": 0.5002501876563868,\n        \"min\": 0.0,\n        \"max\": 1.0,\n        \"num_unique_values\": 2,\n        \"samples\": [\n          1.0,\n          0.0\n        ],\n        \"semantic_type\": \"\",\n        \"description\": \"\"\n      }\n    }\n  ]\n}"
            }
          },
          "metadata": {},
          "execution_count": 68
        }
      ],
      "execution_count": null
    },
    {
      "cell_type": "markdown",
      "source": [
        "                XOR Gate Truth Table\n",
        "\n",
        "\n",
        "![XOR Gate Truth Table](https://cdn1.byjus.com/wp-content/uploads/2023/06/xor-gate-truth-table.png)\n"
      ],
      "metadata": {
        "id": "9cI3Ufgm6_iH"
      }
    },
    {
      "cell_type": "markdown",
      "source": [
        "The forward function is where the computation of the module is taken place, and is executed when you call the module (`nn = MyModule(); nn(x)`). In the init function, we usually create the parameters of the module, using `nn.Parameter`, or defining other modules that are used in the forward function. The backward calculation is done automatically, but could be overwritten as well if wanted.\n",
        "\n",
        "#### Simple classifier\n",
        "We can now make use of the pre-defined modules in the `torch.nn` package, and define our own small neural network. We will use a minimal network with a input layer, one hidden layer with tanh as activation function, and a output layer. In other words, our networks should look something like this:\n",
        "\n",
        "<center width=\"100%\"><img src=\"https://github.com/phlippe/uvadlc_notebooks/blob/master/docs/tutorial_notebooks/tutorial2/small_neural_network.svg?raw=1\" width=\"300px\"></center>\n",
        "\n",
        "The input neurons are shown in blue, which represent the coordinates $x_1$ and $x_2$ of a data point. The hidden neurons including a tanh activation are shown in white, and the output neuron in red.\n",
        "In PyTorch, we can define this as follows:"
      ],
      "metadata": {
        "execution": {
          "iopub.status.busy": "2025-01-08T05:58:43.8023Z",
          "iopub.execute_input": "2025-01-08T05:58:43.802676Z",
          "iopub.status.idle": "2025-01-08T05:58:43.814929Z",
          "shell.execute_reply.started": "2025-01-08T05:58:43.802644Z",
          "shell.execute_reply": "2025-01-08T05:58:43.813423Z"
        },
        "id": "6_DJ_NT26_iI"
      }
    },
    {
      "cell_type": "code",
      "source": [
        "X = df[['X1', 'X2']].values  # Input features\n",
        "y = df['label'].values  # Output labels\n",
        "\n",
        "print(\"Shape of DataFrame (df):\", df.shape)\n",
        "print(\"Shape of Feature Matrix (X):\", X.shape)\n",
        "print(\"Shape of Target Vector (y):\", y.shape)"
      ],
      "metadata": {
        "trusted": true,
        "execution": {
          "iopub.status.busy": "2025-01-08T06:06:26.679017Z",
          "iopub.execute_input": "2025-01-08T06:06:26.679396Z",
          "iopub.status.idle": "2025-01-08T06:06:26.688914Z",
          "shell.execute_reply.started": "2025-01-08T06:06:26.679365Z",
          "shell.execute_reply": "2025-01-08T06:06:26.687631Z"
        },
        "id": "mtvb_2V16_iI",
        "outputId": "272ea143-b303-4ba9-ca33-9e87c4c8407b",
        "colab": {
          "base_uri": "https://localhost:8080/"
        }
      },
      "outputs": [
        {
          "output_type": "stream",
          "name": "stdout",
          "text": [
            "Shape of DataFrame (df): (1000, 3)\n",
            "Shape of Feature Matrix (X): (1000, 2)\n",
            "Shape of Target Vector (y): (1000,)\n"
          ]
        }
      ],
      "execution_count": null
    },
    {
      "cell_type": "code",
      "source": [
        "plt.figure(figsize=(8, 6))\n",
        "\n",
        "# Scatter plot for points with label 0 (use different color for different labels)\n",
        "plt.scatter(df['X1'][y == 0], df['X2'][y == 0], color='blue', label='Class 0')\n",
        "plt.scatter(df['X1'][y == 1], df['X2'][y == 1], color='red', label='Class 1')\n",
        "\n",
        "# Adding labels and title\n",
        "plt.title(\"Scatter Plot of X1 vs X2 with Labels\")\n",
        "plt.xlabel(\"X1 (Feature 1)\")\n",
        "plt.ylabel(\"X2 (Feature 2)\")\n",
        "plt.legend()"
      ],
      "metadata": {
        "trusted": true,
        "execution": {
          "iopub.status.busy": "2025-01-08T06:06:28.548101Z",
          "iopub.execute_input": "2025-01-08T06:06:28.548472Z",
          "iopub.status.idle": "2025-01-08T06:06:28.907668Z",
          "shell.execute_reply.started": "2025-01-08T06:06:28.548442Z",
          "shell.execute_reply": "2025-01-08T06:06:28.906773Z"
        },
        "id": "HXh_SF1k6_iI",
        "outputId": "69307d92-63dc-4aba-a19b-d7f67bd95b78",
        "colab": {
          "base_uri": "https://localhost:8080/",
          "height": 582
        }
      },
      "outputs": [
        {
          "output_type": "execute_result",
          "data": {
            "text/plain": [
              "<matplotlib.legend.Legend at 0x7bd563038af0>"
            ]
          },
          "metadata": {},
          "execution_count": 70
        },
        {
          "output_type": "display_data",
          "data": {
            "text/plain": [
              "<Figure size 800x600 with 1 Axes>"
            ],
            "image/png": "[encoded data removed]"
          },
          "metadata": {}
        }
      ],
      "execution_count": null
    },
    {
      "cell_type": "code",
      "source": [],
      "metadata": {
        "id": "bmZbsz5XWeDs"
      },
      "execution_count": null,
      "outputs": []
    },
    {
      "cell_type": "code",
      "source": [],
      "metadata": {
        "id": "CPnmPZHtWxjs"
      },
      "execution_count": null,
      "outputs": []
    },
    {
      "cell_type": "code",
      "source": [
        "# Convert to PyTorch tensors\n",
        "X = torch.tensor(X, dtype=torch.float32)\n",
        "y = torch.tensor(y, dtype=torch.float32).unsqueeze(1)\n",
        "\n",
        "print(\"Shape of Feature Matrix (X):\", X.shape)\n",
        "print(\"Shape of Target Vector (y):\", y.shape)\n",
        "\n",
        "# Split the data into training and testing sets\n",
        "X_train, X_test, y_train, y_test = train_test_split(X, y, test_size=0.2, random_state=42)\n",
        "\n",
        "\n",
        "print(\"Shape of X_train:\", X_train.shape, \"\\tShape of X_test:\", X_test.shape)\n",
        "print(\"Shape of y_train:\", y_train.shape, \"\\tShape of y_test:\", y_test.shape)"
      ],
      "metadata": {
        "trusted": true,
        "execution": {
          "iopub.status.busy": "2025-01-08T06:06:31.063431Z",
          "iopub.execute_input": "2025-01-08T06:06:31.06379Z",
          "iopub.status.idle": "2025-01-08T06:06:31.080041Z",
          "shell.execute_reply.started": "2025-01-08T06:06:31.063762Z",
          "shell.execute_reply": "2025-01-08T06:06:31.078839Z"
        },
        "id": "1d_x6caX6_iJ",
        "outputId": "27c7fe2f-5282-44ce-8568-2f3b915a1113",
        "colab": {
          "base_uri": "https://localhost:8080/"
        }
      },
      "outputs": [
        {
          "output_type": "stream",
          "name": "stdout",
          "text": [
            "Shape of Feature Matrix (X): torch.Size([1000, 2])\n",
            "Shape of Target Vector (y): torch.Size([1000, 1])\n",
            "Shape of X_train: torch.Size([800, 2]) \tShape of X_test: torch.Size([200, 2])\n",
            "Shape of y_train: torch.Size([800, 1]) \tShape of y_test: torch.Size([200, 1])\n"
          ]
        }
      ],
      "execution_count": null
    },
    {
      "cell_type": "code",
      "source": [
        "# Define a simple neural network\n",
        "class XORModel(nn.Module):\n",
        "    def __init__(self  ,num_inputs, num_hidden, num_outputs):\n",
        "        super(XORModel, self).__init__()\n",
        "        self.fc1 = nn.Linear(num_inputs, num_hidden)  # Input layer (2 features) to hidden layer (4 neurons)\n",
        "        self.fc2 = nn.Linear(num_hidden, num_outputs)  # Hidden layer to output layer (1 output)\n",
        "\n",
        "    def forward(self, x):\n",
        "        x = torch.relu(self.fc1(x))  # Apply ReLU activation\n",
        "        x = torch.sigmoid(self.fc2(x))  # Apply sigmoid activation for binary output\n",
        "        return x"
      ],
      "metadata": {
        "trusted": true,
        "execution": {
          "iopub.status.busy": "2025-01-08T06:08:55.224935Z",
          "iopub.execute_input": "2025-01-08T06:08:55.225424Z",
          "iopub.status.idle": "2025-01-08T06:08:55.233811Z",
          "shell.execute_reply.started": "2025-01-08T06:08:55.225383Z",
          "shell.execute_reply": "2025-01-08T06:08:55.232567Z"
        },
        "id": "lk0esaB_6_iJ"
      },
      "outputs": [],
      "execution_count": null
    },
    {
      "cell_type": "code",
      "source": [
        "# Instantiate the model\n",
        "model = XORModel(num_inputs=2, num_hidden=8, num_outputs=1)\n",
        "\n",
        "# Define loss function and optimizer\n",
        "criterion = nn.BCELoss()  # Binary Cross-Entropy Loss\n",
        "optimizer = optim.SGD(model.parameters(), lr=0.1)\n",
        "\n",
        "print(\"Model architecture:\\n\", model)"
      ],
      "metadata": {
        "trusted": true,
        "execution": {
          "iopub.status.busy": "2025-01-08T06:09:11.838603Z",
          "iopub.execute_input": "2025-01-08T06:09:11.839047Z",
          "iopub.status.idle": "2025-01-08T06:09:11.847937Z",
          "shell.execute_reply.started": "2025-01-08T06:09:11.839012Z",
          "shell.execute_reply": "2025-01-08T06:09:11.84686Z"
        },
        "id": "mhc7i4CD6_iJ",
        "outputId": "92176a70-f08d-4791-99d7-d1172cd669ee",
        "colab": {
          "base_uri": "https://localhost:8080/"
        }
      },
      "outputs": [
        {
          "output_type": "stream",
          "name": "stdout",
          "text": [
            "Model architecture:\n",
            " XORModel(\n",
            "  (fc1): Linear(in_features=2, out_features=8, bias=True)\n",
            "  (fc2): Linear(in_features=8, out_features=1, bias=True)\n",
            ")\n"
          ]
        }
      ],
      "execution_count": null
    },
    {
      "cell_type": "markdown",
      "source": [
        "Printing the model lists all submodules it contains. The parameters of a module can be obtained by using its `parameters()` functions, or `named_parameters()` to get a name to each parameter object. For our small neural network, we have the following parameters:"
      ],
      "metadata": {
        "id": "MfXgWRlg6_iK"
      }
    },
    {
      "cell_type": "code",
      "source": [],
      "metadata": {
        "id": "BP2akxPqXtZT"
      },
      "execution_count": null,
      "outputs": []
    },
    {
      "cell_type": "code",
      "source": [
        "for name, param in model.named_parameters():\n",
        "    print(f\"Parameter {name}, shape {param}\")"
      ],
      "metadata": {
        "trusted": true,
        "execution": {
          "iopub.status.busy": "2025-01-08T06:09:17.90986Z",
          "iopub.execute_input": "2025-01-08T06:09:17.910341Z",
          "iopub.status.idle": "2025-01-08T06:09:17.917801Z",
          "shell.execute_reply.started": "2025-01-08T06:09:17.910298Z",
          "shell.execute_reply": "2025-01-08T06:09:17.916556Z"
        },
        "id": "OhfuQac26_iK",
        "outputId": "9afeb975-d5f2-4b21-ee44-0f4ad0370839",
        "colab": {
          "base_uri": "https://localhost:8080/"
        }
      },
      "outputs": [
        {
          "output_type": "stream",
          "name": "stdout",
          "text": [
            "Parameter fc1.weight, shape Parameter containing:\n",
            "tensor([[ 0.2586,  0.5410],\n",
            "        [ 0.6586,  0.3116],\n",
            "        [-0.5246, -0.1417],\n",
            "        [ 0.5626, -0.3883],\n",
            "        [ 0.0429,  0.6803],\n",
            "        [-0.0381, -0.1887],\n",
            "        [-0.5536, -0.1135],\n",
            "        [ 0.6061,  0.5329]], requires_grad=True)\n",
            "Parameter fc1.bias, shape Parameter containing:\n",
            "tensor([ 0.6653, -0.3557,  0.2278,  0.5165,  0.6343, -0.0186,  0.5921, -0.6604],\n",
            "       requires_grad=True)\n",
            "Parameter fc2.weight, shape Parameter containing:\n",
            "tensor([[-0.2212,  0.0968, -0.0473, -0.1143, -0.1672,  0.1441, -0.1398, -0.2670]],\n",
            "       requires_grad=True)\n",
            "Parameter fc2.bias, shape Parameter containing:\n",
            "tensor([0.2799], requires_grad=True)\n"
          ]
        }
      ],
      "execution_count": null
    },
    {
      "cell_type": "markdown",
      "source": [
        "Each linear layer has a weight matrix of the shape `[output, input]`, and a bias of the shape `[output]`. The tanh activation function does not have any parameters. Note that parameters are only registered for `nn.Module` objects that are direct object attributes, i.e. `self.a = ...`. If you define a list of modules, the parameters of those are not registered for the outer module and can cause some issues when you try to optimize your module. There are alternatives, like `nn.ModuleList`, `nn.ModuleDict` and `nn.Sequential`, that allow you to have different data structures of modules. We will use them in a few later tutorials and explain them there."
      ],
      "metadata": {
        "id": "-nljdVaq6_iK"
      }
    },
    {
      "cell_type": "code",
      "source": [
        "# Evaluate the model on the test set\n",
        "model.eval()\n",
        "correct = 0\n",
        "total = 0\n",
        "with torch.no_grad():\n",
        "    outputs = model(X_test)\n",
        "    predictions = (outputs >= 0.5).float()  # Convert probabilities to binary predictions\n",
        "    correct = (predictions == y_test).sum().item()\n",
        "    total = y_test.size(0)\n",
        "    accuracy = correct / total/10\n",
        "print(f\"Test Accuracy: {accuracy }%\")"
      ],
      "metadata": {
        "trusted": true,
        "execution": {
          "iopub.status.busy": "2025-01-08T06:09:20.324703Z",
          "iopub.execute_input": "2025-01-08T06:09:20.325126Z",
          "iopub.status.idle": "2025-01-08T06:09:20.334635Z",
          "shell.execute_reply.started": "2025-01-08T06:09:20.325093Z",
          "shell.execute_reply": "2025-01-08T06:09:20.333384Z"
        },
        "id": "MxPFVbH56_iK",
        "outputId": "a8e16000-5e71-494c-916b-0cb8b8510376",
        "colab": {
          "base_uri": "https://localhost:8080/"
        }
      },
      "outputs": [
        {
          "output_type": "stream",
          "name": "stdout",
          "text": [
            "Test Accuracy: 0.048%\n"
          ]
        }
      ],
      "execution_count": null
    },
    {
      "cell_type": "code",
      "source": [
        "for epoch in range(1, 2):  # 1 epochs for demonstration\n",
        "    print(f\"\\nEpoch {epoch}/{3}\")\n",
        "\n",
        "    print(\"\\nModel weights before forward pass:\")\n",
        "    for name, param in model.named_parameters():\n",
        "        if param.requires_grad:\n",
        "            print(f\"{name}: {param.data}\")\n",
        "\n",
        "    ### Forward pass: Compute the model's predictions (outputs)\n",
        "    outputs = model(X_train)  # Pass the inputs through the model\n",
        "\n",
        "\n",
        "    ### Calculate the loss (compare predictions to actual labels)\n",
        "    loss = criterion(outputs, y_train)\n",
        "    print(f\"Loss: {loss.item()}\")\n",
        "\n",
        "    ### Backward pass: Compute gradients\n",
        "    optimizer.zero_grad()  # Clear gradients before backward pass\n",
        "    loss.backward()  # Backpropagate the error and compute gradients\n",
        "\n",
        "    # Print the model gradients after backward pass (gradients are computed here)\n",
        "    print(\"\\nGradients after backward pass (computed gradients):\")\n",
        "    for name, param in model.named_parameters():\n",
        "        if param.requires_grad:\n",
        "            print(f\"Gradients for {name}: {param.grad}\")\n",
        "\n",
        "    ### Optimizer step: Update the model's weights using the computed gradients\n",
        "    optimizer.step()\n",
        "\n",
        "\n",
        "    print(\"\\nModel weights after optimizer step (weights updated):\")\n",
        "    for name, param in model.named_parameters():\n",
        "        if param.requires_grad:\n",
        "            print(f\"{name}: {param.data}\")\n"
      ],
      "metadata": {
        "trusted": true,
        "execution": {
          "iopub.status.busy": "2025-01-08T06:09:20.738915Z",
          "iopub.execute_input": "2025-01-08T06:09:20.739381Z",
          "iopub.status.idle": "2025-01-08T06:09:20.7659Z",
          "shell.execute_reply.started": "2025-01-08T06:09:20.739343Z",
          "shell.execute_reply": "2025-01-08T06:09:20.76426Z"
        },
        "id": "mt-AJolA6_iL",
        "outputId": "90720495-0512-4215-df11-56e83dc35191",
        "colab": {
          "base_uri": "https://localhost:8080/"
        }
      },
      "outputs": [
        {
          "output_type": "stream",
          "name": "stdout",
          "text": [
            "\n",
            "Epoch 1/3\n",
            "\n",
            "Model weights before forward pass:\n",
            "fc1.weight: tensor([[ 0.2586,  0.5410],\n",
            "        [ 0.6586,  0.3116],\n",
            "        [-0.5246, -0.1417],\n",
            "        [ 0.5626, -0.3883],\n",
            "        [ 0.0429,  0.6803],\n",
            "        [-0.0381, -0.1887],\n",
            "        [-0.5536, -0.1135],\n",
            "        [ 0.6061,  0.5329]])\n",
            "fc1.bias: tensor([ 0.6653, -0.3557,  0.2278,  0.5165,  0.6343, -0.0186,  0.5921, -0.6604])\n",
            "fc2.weight: tensor([[-0.2212,  0.0968, -0.0473, -0.1143, -0.1672,  0.1441, -0.1398, -0.2670]])\n",
            "fc2.bias: tensor([0.2799])\n",
            "Loss: 0.6930558681488037\n",
            "\n",
            "Gradients after backward pass (computed gradients):\n",
            "Gradients for fc1.weight: tensor([[ 0.0062,  0.0057],\n",
            "        [-0.0042, -0.0013],\n",
            "        [-0.0005,  0.0010],\n",
            "        [ 0.0032,  0.0030],\n",
            "        [ 0.0047,  0.0043],\n",
            "        [ 0.0000,  0.0000],\n",
            "        [ 0.0065,  0.0060],\n",
            "        [-0.0114, -0.0121]])\n",
            "Gradients for fc1.bias: tensor([ 0.0114, -0.0096, -0.0015,  0.0059,  0.0086,  0.0000,  0.0100, -0.0127])\n",
            "Gradients for fc2.weight: tensor([[-0.0557,  0.0028,  0.0047, -0.0324, -0.0516,  0.0000, -0.0116,  0.0188]])\n",
            "Gradients for fc2.bias: tensor([-0.0516])\n",
            "\n",
            "Model weights after optimizer step (weights updated):\n",
            "fc1.weight: tensor([[ 0.2580,  0.5405],\n",
            "        [ 0.6590,  0.3117],\n",
            "        [-0.5246, -0.1418],\n",
            "        [ 0.5623, -0.3886],\n",
            "        [ 0.0425,  0.6798],\n",
            "        [-0.0381, -0.1887],\n",
            "        [-0.5543, -0.1141],\n",
            "        [ 0.6072,  0.5341]])\n",
            "fc1.bias: tensor([ 0.6642, -0.3548,  0.2280,  0.5159,  0.6334, -0.0186,  0.5911, -0.6592])\n",
            "fc2.weight: tensor([[-0.2156,  0.0965, -0.0477, -0.1111, -0.1620,  0.1441, -0.1386, -0.2689]])\n",
            "fc2.bias: tensor([0.2851])\n"
          ]
        }
      ],
      "execution_count": null
    },
    {
      "cell_type": "code",
      "source": [
        "# Training loop\n",
        "num_epochs = 10000\n",
        "for epoch in range(num_epochs):\n",
        "\n",
        "    ## Step 1: Run the model on the input data\n",
        "    outputs = model(X_train)\n",
        "\n",
        "\n",
        "    ## Step 2: Calculate the loss\n",
        "    loss = criterion(outputs, y_train)\n",
        "\n",
        "\n",
        "    ## Step 3: Perform backpropagation\n",
        "    # Before calculating the gradients, we need to ensure that they are all zero.\n",
        "    # The gradients would not be overwritten, but actually added to the existing ones.\n",
        "    optimizer.zero_grad()  # Clear gradients\n",
        "\n",
        "    # Perform backpropagation\n",
        "    loss.backward()  # Compute gradients\n",
        "\n",
        "    ## Step 4: Update the parameters\n",
        "    optimizer.step()  # Update weights\n",
        "\n",
        "    if (epoch + 1) % 1000 == 0:\n",
        "        print(f\"Epoch [{epoch+1}/{num_epochs}], Loss: {loss.item():.4f}\")"
      ],
      "metadata": {
        "trusted": true,
        "execution": {
          "iopub.status.busy": "2025-01-08T06:09:22.436192Z",
          "iopub.execute_input": "2025-01-08T06:09:22.436677Z",
          "iopub.status.idle": "2025-01-08T06:09:27.218107Z",
          "shell.execute_reply.started": "2025-01-08T06:09:22.436634Z",
          "shell.execute_reply": "2025-01-08T06:09:27.217141Z"
        },
        "id": "Bd5mmuyw6_iL",
        "outputId": "93d667ac-da97-4fcf-fc70-9331a3408b58",
        "colab": {
          "base_uri": "https://localhost:8080/"
        }
      },
      "outputs": [
        {
          "output_type": "stream",
          "name": "stdout",
          "text": [
            "Epoch [1000/10000], Loss: 0.3760\n",
            "Epoch [2000/10000], Loss: 0.3053\n",
            "Epoch [3000/10000], Loss: 0.3003\n",
            "Epoch [4000/10000], Loss: 0.2998\n",
            "Epoch [5000/10000], Loss: 0.2997\n",
            "Epoch [6000/10000], Loss: 0.2997\n",
            "Epoch [7000/10000], Loss: 0.2997\n",
            "Epoch [8000/10000], Loss: 0.2997\n",
            "Epoch [9000/10000], Loss: 0.2997\n",
            "Epoch [10000/10000], Loss: 0.2997\n"
          ]
        }
      ],
      "execution_count": null
    },
    {
      "cell_type": "code",
      "source": [
        "# Evaluate the model on the test set\n",
        "model.eval()\n",
        "with torch.no_grad():\n",
        "    outputs = model(X_test)\n",
        "    predictions = (outputs >= 0.5).float()\n",
        "    correct = (predictions == y_test).sum().item()\n",
        "    total = y_test.size(0)\n",
        "    accuracy = correct / total\n",
        "\n",
        "print(f\"Test Accuracy: {accuracy * 100:.2f}%\")"
      ],
      "metadata": {
        "trusted": true,
        "execution": {
          "iopub.status.busy": "2025-01-08T06:09:27.22053Z",
          "iopub.execute_input": "2025-01-08T06:09:27.220897Z",
          "iopub.status.idle": "2025-01-08T06:09:27.232214Z",
          "shell.execute_reply.started": "2025-01-08T06:09:27.220863Z",
          "shell.execute_reply": "2025-01-08T06:09:27.230626Z"
        },
        "id": "J1Ev3I8m6_iL",
        "outputId": "d2ebf69f-be1a-409e-ac74-b7fa412c45f6",
        "colab": {
          "base_uri": "https://localhost:8080/"
        }
      },
      "outputs": [
        {
          "output_type": "stream",
          "name": "stdout",
          "text": [
            "Test Accuracy: 82.00%\n"
          ]
        }
      ],
      "execution_count": null
    },
    {
      "cell_type": "markdown",
      "source": [
        "#### Saving a model\n",
        "\n",
        "After finish training a model, we save the model to disk so that we can load the same weights at a later time. For this, we extract the so-called `state_dict` from the model which contains all learnable parameters. For our simple model, the state dict contains the following entries:"
      ],
      "metadata": {
        "id": "l9Klt4S-6_iM"
      }
    },
    {
      "cell_type": "code",
      "source": [
        "state_dict = model.state_dict()\n",
        "print(state_dict)"
      ],
      "metadata": {
        "trusted": true,
        "execution": {
          "iopub.status.busy": "2025-01-08T06:09:32.960833Z",
          "iopub.execute_input": "2025-01-08T06:09:32.961326Z",
          "iopub.status.idle": "2025-01-08T06:09:32.970029Z",
          "shell.execute_reply.started": "2025-01-08T06:09:32.961278Z",
          "shell.execute_reply": "2025-01-08T06:09:32.968901Z"
        },
        "id": "J0kpriR76_iN",
        "outputId": "3fc309b4-66ff-479d-a82c-3b9ad86850b5",
        "colab": {
          "base_uri": "https://localhost:8080/"
        }
      },
      "outputs": [
        {
          "output_type": "stream",
          "name": "stdout",
          "text": [
            "OrderedDict([('fc1.weight', tensor([[ 0.4248,  0.6977],\n",
            "        [ 0.9229,  0.8868],\n",
            "        [-1.6018, -1.5332],\n",
            "        [ 0.6662, -0.2920],\n",
            "        [ 0.2117,  0.8363],\n",
            "        [-0.0381, -0.1887],\n",
            "        [-2.2620, -2.1650],\n",
            "        [ 2.8525,  2.7416]])), ('fc1.bias', tensor([ 0.9692, -0.9150,  1.5851,  0.6986,  0.9254, -0.0186,  2.2384, -2.8284])), ('fc2.weight', tensor([[ 0.9241, -1.3521, -2.6617,  0.5443,  0.8730,  0.1441, -3.7636, -4.7582]])), ('fc2.bias', tensor([1.0023]))])\n"
          ]
        }
      ],
      "execution_count": null
    },
    {
      "cell_type": "markdown",
      "source": [
        "To save the state dictionary, we can use `torch.save`:"
      ],
      "metadata": {
        "id": "L0ILpEbr6_iN"
      }
    },
    {
      "cell_type": "code",
      "source": [
        "# torch.save(object, filename). For the filename, any extension can be used\n",
        "torch.save(state_dict, \"our_model.tar\")"
      ],
      "metadata": {
        "trusted": true,
        "execution": {
          "iopub.status.busy": "2025-01-08T06:09:34.750039Z",
          "iopub.execute_input": "2025-01-08T06:09:34.750567Z",
          "iopub.status.idle": "2025-01-08T06:09:34.756767Z",
          "shell.execute_reply.started": "2025-01-08T06:09:34.750528Z",
          "shell.execute_reply": "2025-01-08T06:09:34.755461Z"
        },
        "id": "SThrLamJ6_iN"
      },
      "outputs": [],
      "execution_count": null
    },
    {
      "cell_type": "code",
      "source": [],
      "metadata": {
        "id": "U1gdRa7EeYcG"
      },
      "execution_count": null,
      "outputs": []
    },
    {
      "cell_type": "markdown",
      "source": [
        "To load a model from a state dict, we use the function `torch.load` to load the state dict from the disk, and the module function `load_state_dict` to overwrite our parameters with the new values:"
      ],
      "metadata": {
        "id": "MgsH_ukS6_iN"
      }
    },
    {
      "cell_type": "code",
      "source": [
        "# Load state dict from the disk (make sure it is the same name as above)\n",
        "state_dict = torch.load(\"our_model.tar\")\n",
        "\n",
        "# Create a new model and load the state\n",
        "new_model = XORModel(num_inputs=2, num_hidden=4, num_outputs=1)\n",
        "new_model.load_state_dict(state_dict)\n",
        "\n",
        "# Verify that the parameters are the same\n",
        "print(\"Original model\\n\", model.state_dict())\n",
        "print(\"\\nLoaded model\\n\", new_model.state_dict())"
      ],
      "metadata": {
        "trusted": true,
        "execution": {
          "iopub.status.busy": "2025-01-08T06:09:36.453762Z",
          "iopub.execute_input": "2025-01-08T06:09:36.454189Z",
          "iopub.status.idle": "2025-01-08T06:09:36.469015Z",
          "shell.execute_reply.started": "2025-01-08T06:09:36.454151Z",
          "shell.execute_reply": "2025-01-08T06:09:36.467438Z"
        },
        "id": "HS5JMUO66_iO",
        "outputId": "9f8ce5dd-0af5-4867-8263-d1689a376e30"
      },
      "outputs": [
        {
          "name": "stdout",
          "text": "Original model\n OrderedDict([('fc1.weight', tensor([[ 0.1062,  0.3099],\n        [-2.8228, -2.7631],\n        [ 2.8571,  2.6871],\n        [-0.1114, -0.1623]])), ('fc1.bias', tensor([-0.4033,  2.7895, -2.8366, -0.4895])), ('fc2.weight', tensor([[ 0.1956, -4.8341, -4.8200,  0.3915]])), ('fc2.bias', tensor([3.9820]))])\n\nLoaded model\n OrderedDict([('fc1.weight', tensor([[ 0.1062,  0.3099],\n        [-2.8228, -2.7631],\n        [ 2.8571,  2.6871],\n        [-0.1114, -0.1623]])), ('fc1.bias', tensor([-0.4033,  2.7895, -2.8366, -0.4895])), ('fc2.weight', tensor([[ 0.1956, -4.8341, -4.8200,  0.3915]])), ('fc2.bias', tensor([3.9820]))])\n",
          "output_type": "stream"
        }
      ],
      "execution_count": null
    },
    {
      "cell_type": "markdown",
      "source": [
        "A detailed tutorial on saving and loading models in PyTorch can be found [here](https://pytorch.org/tutorials/beginner/saving_loading_models.html)."
      ],
      "metadata": {
        "id": "rEVf4UHX6_iO"
      }
    },
    {
      "cell_type": "markdown",
      "source": [
        "## Convolutional Neural Networks\n",
        "Convolutional Neural Networks (CNNs) are deep learning models designed for grid-like data, such as images. They are widely used in tasks like image classification and object detection.\n",
        "\n",
        "CNNs excel at capturing spatial patterns, making them essential for computer vision tasks.\n",
        "\n",
        "\n",
        "\n",
        "\n",
        "\n"
      ],
      "metadata": {
        "id": "tio2yYDG6_iO"
      }
    },
    {
      "cell_type": "markdown",
      "source": [
        "### Image\n",
        "![](https://media.geeksforgeeks.org/wp-content/uploads/20230329095332/RGB-arrays-combined-to-make-image.jpg)"
      ],
      "metadata": {
        "id": "WOFKxyYT6_iX"
      }
    },
    {
      "cell_type": "code",
      "source": [
        "img = cv2.imread( film_image_path + \"/bunny.jpg\")\n",
        "img"
      ],
      "metadata": {
        "trusted": true,
        "execution": {
          "iopub.status.busy": "2025-01-08T06:16:54.321623Z",
          "iopub.execute_input": "2025-01-08T06:16:54.322061Z",
          "iopub.status.idle": "2025-01-08T06:16:54.342157Z",
          "shell.execute_reply.started": "2025-01-08T06:16:54.322026Z",
          "shell.execute_reply": "2025-01-08T06:16:54.341016Z"
        },
        "id": "Q9wkZ6P96_iY",
        "outputId": "e91796c8-6c69-4162-cf20-26c4bde28ef0",
        "colab": {
          "base_uri": "https://localhost:8080/",
          "height": 886
        }
      },
      "outputs": [
        {
          "output_type": "execute_result",
          "data": {
            "text/plain": [
              "array([[[ 36,  46,  40],\n",
              "        [ 36,  46,  40],\n",
              "        [ 35,  45,  39],\n",
              "        ...,\n",
              "        [ 46,  64,  75],\n",
              "        [ 45,  64,  72],\n",
              "        [ 45,  64,  72]],\n",
              "\n",
              "       [[ 36,  46,  40],\n",
              "        [ 36,  46,  40],\n",
              "        [ 35,  45,  39],\n",
              "        ...,\n",
              "        [ 49,  67,  78],\n",
              "        [ 48,  67,  75],\n",
              "        [ 48,  67,  75]],\n",
              "\n",
              "       [[ 36,  47,  39],\n",
              "        [ 35,  46,  38],\n",
              "        [ 35,  45,  39],\n",
              "        ...,\n",
              "        [ 50,  69,  77],\n",
              "        [ 50,  69,  76],\n",
              "        [ 49,  68,  75]],\n",
              "\n",
              "       ...,\n",
              "\n",
              "       [[ 69,  79,  73],\n",
              "        [ 59,  70,  62],\n",
              "        [ 45,  56,  48],\n",
              "        ...,\n",
              "        [ 39,  47,  47],\n",
              "        [ 37,  47,  47],\n",
              "        [ 37,  47,  47]],\n",
              "\n",
              "       [[ 93, 104,  96],\n",
              "        [ 76,  87,  77],\n",
              "        [ 54,  65,  55],\n",
              "        ...,\n",
              "        [ 40,  48,  48],\n",
              "        [ 38,  48,  48],\n",
              "        [ 38,  48,  48]],\n",
              "\n",
              "       [[100, 111, 101],\n",
              "        [ 84,  96,  84],\n",
              "        [ 70,  82,  70],\n",
              "        ...,\n",
              "        [ 43,  51,  51],\n",
              "        [ 43,  51,  51],\n",
              "        [ 43,  51,  51]]], dtype=uint8)"
            ],
            "text/html": [
              "<style>\n",
              "      .ndarray_repr .ndarray_raw_data {\n",
              "        display: none;\n",
              "      }\n",
              "      .ndarray_repr.show_array .ndarray_raw_data {\n",
              "        display: block;\n",
              "      }\n",
              "      .ndarray_repr.show_array .ndarray_image_preview {\n",
              "        display: none;\n",
              "      }\n",
              "      </style>\n",
              "      <div id=\"id-29fcc41e-14ff-45d5-9631-fb0b68ae565a\" class=\"ndarray_repr\"><pre>ndarray (183, 275, 3) <button style=\"padding: 0 2px;\">show data</button></pre><img src=\"data:image/png;base64,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\" class=\"ndarray_image_preview\" /><pre class=\"ndarray_raw_data\">array([[[ 36,  46,  40],\n",
              "        [ 36,  46,  40],\n",
              "        [ 35,  45,  39],\n",
              "        ...,\n",
              "        [ 46,  64,  75],\n",
              "        [ 45,  64,  72],\n",
              "        [ 45,  64,  72]],\n",
              "\n",
              "       [[ 36,  46,  40],\n",
              "        [ 36,  46,  40],\n",
              "        [ 35,  45,  39],\n",
              "        ...,\n",
              "        [ 49,  67,  78],\n",
              "        [ 48,  67,  75],\n",
              "        [ 48,  67,  75]],\n",
              "\n",
              "       [[ 36,  47,  39],\n",
              "        [ 35,  46,  38],\n",
              "        [ 35,  45,  39],\n",
              "        ...,\n",
              "        [ 50,  69,  77],\n",
              "        [ 50,  69,  76],\n",
              "        [ 49,  68,  75]],\n",
              "\n",
              "       ...,\n",
              "\n",
              "       [[ 69,  79,  73],\n",
              "        [ 59,  70,  62],\n",
              "        [ 45,  56,  48],\n",
              "        ...,\n",
              "        [ 39,  47,  47],\n",
              "        [ 37,  47,  47],\n",
              "        [ 37,  47,  47]],\n",
              "\n",
              "       [[ 93, 104,  96],\n",
              "        [ 76,  87,  77],\n",
              "        [ 54,  65,  55],\n",
              "        ...,\n",
              "        [ 40,  48,  48],\n",
              "        [ 38,  48,  48],\n",
              "        [ 38,  48,  48]],\n",
              "\n",
              "       [[100, 111, 101],\n",
              "        [ 84,  96,  84],\n",
              "        [ 70,  82,  70],\n",
              "        ...,\n",
              "        [ 43,  51,  51],\n",
              "        [ 43,  51,  51],\n",
              "        [ 43,  51,  51]]], dtype=uint8)</pre></div><script>\n",
              "      (() => {\n",
              "      const titles = ['show data', 'hide data'];\n",
              "      let index = 0\n",
              "      document.querySelector('#id-29fcc41e-14ff-45d5-9631-fb0b68ae565a button').onclick = (e) => {\n",
              "        document.querySelector('#id-29fcc41e-14ff-45d5-9631-fb0b68ae565a').classList.toggle('show_array');\n",
              "        index = (++index) % 2;\n",
              "        document.querySelector('#id-29fcc41e-14ff-45d5-9631-fb0b68ae565a button').textContent = titles[index];\n",
              "        e.preventDefault();\n",
              "        e.stopPropagation();\n",
              "      }\n",
              "      })();\n",
              "    </script>"
            ]
          },
          "metadata": {},
          "execution_count": 87
        }
      ],
      "execution_count": null
    },
    {
      "cell_type": "code",
      "source": [
        "img.shape"
      ],
      "metadata": {
        "trusted": true,
        "execution": {
          "iopub.status.busy": "2025-01-08T06:17:16.818465Z",
          "iopub.execute_input": "2025-01-08T06:17:16.81895Z",
          "iopub.status.idle": "2025-01-08T06:17:16.825735Z",
          "shell.execute_reply.started": "2025-01-08T06:17:16.818903Z",
          "shell.execute_reply": "2025-01-08T06:17:16.824328Z"
        },
        "id": "mDO5IO2k6_iY",
        "outputId": "b96a6699-ded7-4270-c9cd-32168374c54b",
        "colab": {
          "base_uri": "https://localhost:8080/"
        }
      },
      "outputs": [
        {
          "output_type": "execute_result",
          "data": {
            "text/plain": [
              "(183, 275, 3)"
            ]
          },
          "metadata": {},
          "execution_count": 15
        }
      ],
      "execution_count": null
    },
    {
      "cell_type": "code",
      "source": [
        "plt.imshow(img)\n"
      ],
      "metadata": {
        "trusted": true,
        "execution": {
          "iopub.status.busy": "2025-01-08T06:17:06.00722Z",
          "iopub.execute_input": "2025-01-08T06:17:06.007701Z",
          "iopub.status.idle": "2025-01-08T06:17:06.262016Z",
          "shell.execute_reply.started": "2025-01-08T06:17:06.007659Z",
          "shell.execute_reply": "2025-01-08T06:17:06.260637Z"
        },
        "id": "eh4HHQOp6_iZ",
        "outputId": "c7adf071-c0a2-48e6-a19f-a5ece6873d26"
      },
      "outputs": [
        {
          "execution_count": 51,
          "output_type": "execute_result",
          "data": {
            "text/plain": "<matplotlib.image.AxesImage at 0x798ff54be950>"
          },
          "metadata": {}
        },
        {
          "output_type": "display_data",
          "data": {
            "text/plain": "<Figure size 432x288 with 1 Axes>",
            "image/png": "[encoded data removed]"
          },
          "metadata": {
            "needs_background": "light"
          }
        }
      ],
      "execution_count": null
    },
    {
      "cell_type": "markdown",
      "source": [
        "You can explore a detailed and interactive CNN explainer by visiting the following link:\n",
        "\n",
        "[**CNN Explainer**](https://poloclub.github.io/cnn-explainer/)\n",
        "\n",
        "This tool helps visualize how convolutional neural networks (CNNs) work, providing a great way to understand the operations happening within each layer.\n"
      ],
      "metadata": {
        "id": "ynjL5nHa6_iZ"
      }
    },
    {
      "cell_type": "markdown",
      "source": [
        "You can explore a detailed and insightful video resource on the convolution operation in deep learning by visiting the following link:\n",
        "\n",
        "[**Convolution operation**](https://deeplizard.com/resource/pavq7noze2)\n",
        "\n",
        "This video explains the convolution operation in convolutional neural networks (CNNs), showing how filters (kernels) are applied to input data to extract features.\n"
      ],
      "metadata": {
        "id": "1mOB-YDm6_iZ"
      }
    },
    {
      "cell_type": "markdown",
      "source": [
        "You can explore an in-depth guide on convolutional neural networks (CNNs) by visiting the following link:\n",
        "\n",
        "[**Deep Learning Wizard - About Convolutional Neural Network**](https://www.deeplearningwizard.com/deep_learning/practical_pytorch/pytorch_convolutional_neuralnetwork/#about-convolutional-neural-network)\n",
        "\n",
        "This resource provides an overview of CNNs, explaining their architecture, functionality, and how they are used for feature extraction in image data.\n"
      ],
      "metadata": {
        "id": "a-eGePwf6_iZ"
      }
    },
    {
      "cell_type": "markdown",
      "source": [
        "*   ### Convolution\n",
        "    ![](https://miro.medium.com/v2/resize:fit:1358/1*D6iRfzDkz-sEzyjYoVZ73w.gif)"
      ],
      "metadata": {
        "id": "jUy9Tozx6_ia"
      }
    },
    {
      "cell_type": "markdown",
      "source": [
        "*   ### Padding and Stride\n",
        "    ![](https://upload.wikimedia.org/wikipedia/commons/0/04/Convolution_arithmetic_-_Padding_strides.gif)"
      ],
      "metadata": {
        "id": "s0XTK9a76_ia"
      }
    },
    {
      "cell_type": "markdown",
      "source": [
        "*   ### Pooling\n",
        "    ![](https://nico-curti.github.io/NumPyNet/NumPyNet/images/maxpool.gif)"
      ],
      "metadata": {
        "id": "zckQrCIn6_ia"
      }
    },
    {
      "cell_type": "markdown",
      "source": [
        "*   ### Convolution on RGB image\n",
        "    ![](https://cdn.analyticsvidhya.com/wp-content/uploads/2018/12/Screenshot-from-2018-12-07-18-20-14.png)"
      ],
      "metadata": {
        "id": "3HPg6ooG6_ia"
      }
    },
    {
      "cell_type": "markdown",
      "source": [
        "*  ### Relation between Input and Output features during convolution\n",
        "    ![](https://i0.wp.com/syncedreview.com/wp-content/uploads/2017/05/13.png?resize=330%2C230&ssl=1)\n"
      ],
      "metadata": {
        "id": "wyor_VEJ6_ia"
      }
    },
    {
      "cell_type": "markdown",
      "source": [
        "### Exercise 1: Basic Convolution Operation\n",
        "\n",
        "You have the following input tensor and convolution parameters:\n",
        "\n",
        "- **Input size**: \\(28 x 28 x 1\\) (28x28 image with 1 channel)\n",
        "- **Kernel size**: \\(3 x 3\\)\n",
        "- **Stride**: 1\n",
        "- **Padding**: 0\n",
        "\n",
        "**Question:**\n",
        "What will be the output size of the feature map after applying the convolution operation?\n",
        "\n",
        "**Solution:**\n",
        "Use the formula for calculating the output size of a convolutional layer:\n",
        "\n",
        "$$\n",
        "\\text{Output Size} = \\left( \\frac{\\text{Input Size} - \\text{Kernel Size} + 2 x \\text{Padding}}{\\text{Stride}} \\right) + 1\n",
        "$$\n",
        "\n",
        "Substituting the values:\n",
        "\n",
        "$$\n",
        "\\text{Output Size} = \\left( \\frac{28 - 3 + 2 x 0}{1} \\right) + 1 = 26\n",
        "$$\n",
        "\n",
        "**Answer:** The output size will be \\(26 x 26 x 1\\).\n",
        "\n",
        "---\n",
        "\n",
        "### Exercise 2: Convolution with Padding\n",
        "\n",
        "You have the following input tensor and convolution parameters:\n",
        "\n",
        "- **Input size**: \\(32 x 32 x 3\\) (32x32 RGB image with 3 channels)\n",
        "- **Kernel size**: \\(5 x 5\\)\n",
        "- **Stride**: 2\n",
        "- **Padding**: 2\n",
        "\n",
        "**Question:**\n",
        "What will be the output size of the feature map after applying the convolution operation?\n",
        "\n",
        "**Solution:**\n",
        "Using the same formula for the output size:\n",
        "\n",
        "$$\n",
        "\\text{Output Size} = \\left( \\frac{\\text{Input Size} - \\text{Kernel Size} + 2 x \\text{Padding}}{\\text{Stride}} \\right) + 1\n",
        "$$\n",
        "\n",
        "Substituting the values:\n",
        "\n",
        "$$\n",
        "\\text{Output Size} = \\left( \\frac{32 - 5 + 2 x 2}{2} \\right) + 1 = \\left( \\frac{32 - 5 + 4}{2} \\right) + 1 = \\left( \\frac{31}{2} \\right) + 1 = 15 + 1 = 16\n",
        "$$\n",
        "\n",
        "**Answer:** The output size will be \\(16 x 16 x 3\\).\n",
        "\n",
        "---\n",
        "\n",
        "### Exercise 3: Convolution with Larger Stride\n",
        "\n",
        "You have the following input tensor and convolution parameters:\n",
        "\n",
        "- **Input size**: \\(64 x 64 x 1\\) (64x64 grayscale image with 1 channel)\n",
        "- **Kernel size**: \\(7 x 7\\)\n",
        "- **Stride**: 3\n",
        "- **Padding**: 0\n",
        "\n",
        "**Question:**\n",
        "What will be the output size of the feature map after applying the convolution operation?\n",
        "\n",
        "**Solution:**\n",
        "Using the same formula:\n",
        "\n",
        "$$\n",
        "\\text{Output Size} = \\left( \\frac{\\text{Input Size} - \\text{Kernel Size} + 2 x \\text{Padding}}{\\text{Stride}} \\right) + 1\n",
        "$$\n",
        "\n",
        "Substituting the values:\n",
        "\n",
        "$$\n",
        "\\text{Output Size} = \\left( \\frac{64 - 7 + 2 x 0}{3} \\right) + 1 = \\left( \\frac{64 - 7}{3} \\right) + 1 = \\left( \\frac{57}{3} \\right) + 1 = 19 + 1 = 20\n",
        "$$\n",
        "\n",
        "**Answer:** The output size will be \\(20 x 20 x 1\\).\n",
        "\n",
        "---\n",
        "\n",
        "### Exercise 4: Max Pooling Operation\n",
        "\n",
        "You have the following input tensor and pooling parameters:\n",
        "\n",
        "- **Input size**: \\(6 x 6 x 1\\) (6x6 image with 1 channel)\n",
        "- **Pool size**: \\(2 x 2\\)\n",
        "- **Stride**: 2\n",
        "- **Padding**: 0\n",
        "\n",
        "**Question:**\n",
        "What will be the output size of the feature map after applying Max Pooling?\n",
        "\n",
        "**Solution:**\n",
        "Use the formula for calculating the output size of a pooling layer:\n",
        "\n",
        "$$\n",
        "\\text{Output Size} = \\left( \\frac{\\text{Input Size} - \\text{Pool Size} + 2 x \\text{Padding}}{\\text{Stride}} \\right) + 1\n",
        "$$\n",
        "\n",
        "Substituting the values:\n",
        "\n",
        "$$\n",
        "\\text{Output Size} = \\left( \\frac{6 - 2 + 2 x 0}{2} \\right) + 1 = \\left( \\frac{6 - 2}{2} \\right) + 1 = \\left( \\frac{4}{2} \\right) + 1 = 2 + 1 = 3\n",
        "$$\n",
        "\n",
        "**Answer:** The output size will be \\(3 x 3 x 1\\).\n",
        "\n",
        "---\n",
        "\n",
        "### Exercise 5: Max Pooling with Padding\n",
        "\n",
        "You have the following input tensor and pooling parameters:\n",
        "\n",
        "- **Input size**: \\(8 x 8 x 1\\) (8x8 image with 1 channel)\n",
        "- **Pool size**: \\(3 x 3\\)\n",
        "- **Stride**: 2\n",
        "- **Padding**: 1\n",
        "\n",
        "**Question:**\n",
        "What will be the output size of the feature map after applying Max Pooling?\n",
        "\n",
        "**Solution:**\n",
        "Using the same formula for the output size:\n",
        "\n",
        "$$\n",
        "\\text{Output Size} = \\left( \\frac{\\text{Input Size} - \\text{Pool Size} + 2 x \\text{Padding}}{\\text{Stride}} \\right) + 1\n",
        "$$\n",
        "\n",
        "Substituting the values:\n",
        "\n",
        "$$\n",
        "\\text{Output Size} = \\left( \\frac{8 - 3 + 2 x 1}{2} \\right) + 1 = \\left( \\frac{8 - 3 + 2}{2} \\right) + 1 = \\left( \\frac{7}{2} \\right) + 1 = 3 + 1 = 4\n",
        "$$\n",
        "\n",
        "**Answer:** The output size will be \\(4 x 4 x 1\\).\n"
      ],
      "metadata": {
        "id": "3FUmeZf36_ib"
      }
    },
    {
      "cell_type": "markdown",
      "source": [
        "*   ### A Convolutional Neural Network\n",
        "    ![](https://raw.githubusercontent.com/amanchadha/coursera-deep-learning-specialization/master/C4%20-%20Convolutional%20Neural%20Networks/Notes/Images/06.png)"
      ],
      "metadata": {
        "id": "PhF3p2YO6_ib"
      }
    },
    {
      "cell_type": "markdown",
      "source": [
        "## Essential PyTorch Components\n",
        "\n",
        "#### Neural Network Layers and Functions\n",
        "\n",
        "**🔰 Convolutional Layer**\n",
        "```python\n",
        "# 1. Convolutional Layer (Conv2d)\n",
        "torch.nn.Conv2d(in_channels, out_channels, kernel_size, stride=1, padding=0)\n",
        "```\n",
        "Applies a 2D convolution over an input signal. Essential for image processing tasks.\n",
        "- `in_channels`: Number of input channels (e.g., 3 for RGB images)\n",
        "- `out_channels`: Number of output channels (number of filters)\n",
        "- `kernel_size`: Size of the convolving kernel\n",
        "- `stride`: Stride of the convolution\n",
        "- `padding`: Padding added to input\n",
        "\n",
        "**🔰 Max Pooling Layer**\n",
        "```python\n",
        "# 2. Max Pooling Layer\n",
        "torch.nn.MaxPool2d(kernel_size, stride=None, padding=0)\n",
        "```\n",
        "Reduces spatial dimensions by taking maximum value in each window.\n",
        "- `kernel_size`: Size of the window to take maximum over\n",
        "- `stride`: Stride of the window (default: kernel_size)\n",
        "- `padding`: Padding added to input\n",
        "\n",
        "**🔰 ReLU Activation**\n",
        "```python\n",
        "# 3. ReLU Activation Function\n",
        "torch.nn.ReLU(inplace=False)\n",
        "```\n",
        "Applies element-wise ReLU function: f(x) = max(0,x)\n",
        "- `inplace`: If True, modifies input directly (saves memory)\n",
        "\n",
        "**🔰 Sigmoid Activation**\n",
        "```python\n",
        "# 4. Sigmoid Activation Function\n",
        "torch.nn.Sigmoid()\n",
        "```\n",
        "Applies the element-wise sigmoid function: f(x) = 1 / (1 + exp(-x))\n",
        "- Commonly used for binary classification\n",
        "- Maps any input to a value between 0 and 1\n",
        "- Useful for output layer in binary classification or gates in LSTM\n",
        "\n",
        "**🔰 Batch Normalization**\n",
        "```python\n",
        "# 5. Batch Normalization\n",
        "torch.nn.BatchNorm2d(num_features)\n",
        "```\n",
        "Normalizes the input layer by adjusting and scaling activations.\n",
        "- `num_features`: Number of features/channels expected in input\n",
        "\n",
        "**🔰 Linear Layer**\n",
        "```python\n",
        "# 6. Linear Layer (Fully Connected)\n",
        "torch.nn.Linear(in_features, out_features)\n",
        "```\n",
        "Applies linear transformation: y = xA^T + b\n",
        "- `in_features`: Size of each input sample\n",
        "- `out_features`: Size of each output sample\n",
        "\n",
        "**🔰 Dropout Layer**\n",
        "```python\n",
        "# 7. Dropout Layer\n",
        "torch.nn.Dropout(p=0.5)\n",
        "```\n",
        "Randomly zeroes some elements of input tensor with probability p.\n",
        "- `p`: Probability of zeroing an element\n",
        "\n",
        "**🔰 Flatten Layer**\n",
        "```python\n",
        "# 8. Flatten Layer\n",
        "torch.nn.Flatten(start_dim=1)\n",
        "```\n",
        "Flattens a contiguous range of dims into a tensor.\n",
        "- `start_dim`: First dim to flatten (default: 1)\n",
        "\n",
        "#### Optimization and Training Components\n",
        "\n",
        "**🔰 SGD Optimizer**\n",
        "```python\n",
        "# 9. SGD Optimizer\n",
        "torch.optim.SGD(params, lr=0.01, momentum=0)\n",
        "```\n",
        "Implements stochastic gradient descent optimization.\n",
        "- `params`: Network parameters to optimize\n",
        "- `lr`: Learning rate\n",
        "- `momentum`: Momentum factor\n",
        "\n",
        "**🔰 Cross Entropy Loss**\n",
        "```python\n",
        "# 10. Cross Entropy Loss\n",
        "torch.nn.CrossEntropyLoss()\n",
        "```\n",
        "Combines LogSoftmax and NLLLoss in single class.\n",
        "- Useful for training classification models\n",
        "- Automatically applies softmax to network output\n",
        "-  The mathematical formula is: $\\text{Cross Entropy} = -\\sum_{i=1}^{C} y_i \\log(\\hat{y_i})$\n",
        "\n",
        "\n",
        "where:\n",
        "- $C$ is the number of classes\n",
        "- $y_i$ is the true probability of class i\n",
        "- $\\hat{y}_i$ is the predicted probability of class i\n",
        "\n",
        "For binary classification, it simplifies to: $ \\text{Binary Cross Entropy} = -(y \\log(\\hat{y}) + (1-y)\\log(1-\\hat{y})) $\n",
        "\n",
        "\n",
        "**🔰 MSE Loss (Mean Squared Error)**\n",
        "```python\n",
        "# 11. MSE Loss\n",
        "torch.nn.MSELoss(reduction='mean')\n",
        "```\n",
        "Measures the mean squared error (squared L2 norm) between predicted and actual values.\n",
        "- `reduction`: Specifies the reduction to apply to the output ('mean', 'sum', or 'none')\n",
        "- Common for regression problems\n",
        "- Also known as L2 loss\n",
        "- Formula: $ \\text{MSE} = \\frac{1}{n}\\sum_{i=1}^{n}(x_i - y_i)^2 $\n",
        "\n",
        "\n",
        "**🔰 DataLoader**\n",
        "```python\n",
        "# 12. DataLoader\n",
        "torch.utils.data.DataLoader(dataset, batch_size=1, shuffle=False)\n",
        "```\n",
        "Combines a dataset and sampler to provide iteration over dataset.\n",
        "- `dataset`: Dataset from which to load data\n",
        "- `batch_size`: How many samples per batch\n",
        "- `shuffle`: Whether to reshuffle data at every epoch"
      ],
      "metadata": {
        "id": "KMd2qv-F6_ic"
      }
    },
    {
      "cell_type": "markdown",
      "source": [
        "## Identifying hand-written digits(MNIST) using PyTorch"
      ],
      "metadata": {
        "id": "Z2KeOejO6_id"
      }
    },
    {
      "cell_type": "markdown",
      "source": [
        "We will use the famous <b>MNIST Handwritten Digits Databases</b> as our training dataset.It consists of 28px by 28px grayscale images of handwritten disgits(0 - 9), along with labels for each image indicating which digit it represents. MNIST stands for <b>Modified National Institute of Standards and Technology.</b>"
      ],
      "metadata": {
        "id": "O96KfIEu6_id"
      }
    },
    {
      "cell_type": "code",
      "source": [
        "from scipy.io import loadmat\n",
        "mnist = loadmat(mnist_path + \"/mnist-original.mat\")\n",
        "mnist_data = mnist[\"data\"].T\n",
        "mnist_label = mnist[\"label\"][0]\n"
      ],
      "metadata": {
        "trusted": true,
        "execution": {
          "iopub.status.busy": "2025-01-08T06:36:23.587515Z",
          "iopub.execute_input": "2025-01-08T06:36:23.588128Z",
          "iopub.status.idle": "2025-01-08T06:36:24.118882Z",
          "shell.execute_reply.started": "2025-01-08T06:36:23.588079Z",
          "shell.execute_reply": "2025-01-08T06:36:24.117747Z"
        },
        "id": "WVVfJl9O6_ie"
      },
      "outputs": [],
      "execution_count": null
    },
    {
      "cell_type": "markdown",
      "source": [
        "## Preparing MNIST Dataset\n",
        "\n",
        "The MNIST dataset contains images of size **28x28 pixels**.\n",
        "\n",
        "Each image is initially stored as a **1D array of 784 values** (since 28 * 28 = 784). This means the dataset is represented in the following format:\n",
        "\n",
        "- **`(N, 784)`**, where `N` is the total number of images in the dataset.\n",
        "\n",
        "The mnist_data contains all the images in a flat format, where each row corresponds to a single image.\n",
        "\n",
        "The mnist_label contains the digit labels (0-9) for each image."
      ],
      "metadata": {
        "execution": {
          "iopub.status.busy": "2025-01-07T16:29:51.846858Z",
          "iopub.execute_input": "2025-01-07T16:29:51.847231Z",
          "iopub.status.idle": "2025-01-07T16:29:51.856337Z",
          "shell.execute_reply.started": "2025-01-07T16:29:51.847201Z",
          "shell.execute_reply": "2025-01-07T16:29:51.854866Z"
        },
        "id": "0BC7Quyv6_if"
      }
    },
    {
      "cell_type": "code",
      "source": [
        "print(\"mnist_data shape:\", mnist_data.shape)\n",
        "print(\"mnist_label shape:\", mnist_label.shape)"
      ],
      "metadata": {
        "trusted": true,
        "execution": {
          "iopub.status.busy": "2025-01-08T06:36:24.972157Z",
          "iopub.execute_input": "2025-01-08T06:36:24.972733Z",
          "iopub.status.idle": "2025-01-08T06:36:24.979102Z",
          "shell.execute_reply.started": "2025-01-08T06:36:24.972689Z",
          "shell.execute_reply": "2025-01-08T06:36:24.977691Z"
        },
        "id": "oUhqHiNr6_if",
        "outputId": "eeb27798-42dc-4e31-9af3-bd93028b058d",
        "colab": {
          "base_uri": "https://localhost:8080/"
        }
      },
      "outputs": [
        {
          "output_type": "stream",
          "name": "stdout",
          "text": [
            "mnist_data shape: (70000, 784)\n",
            "mnist_label shape: (70000,)\n"
          ]
        }
      ],
      "execution_count": null
    },
    {
      "cell_type": "code",
      "source": [
        "from sklearn.model_selection import train_test_split\n",
        "\n",
        "# Split the data into training and testing sets (80% train, 20% test)\n",
        "train_data, test_data, train_labels, test_labels = train_test_split(\n",
        "    mnist_data, mnist_label, test_size=0.2, random_state=42)\n",
        "\n",
        "\n",
        "print(\"Train data shape:\", train_data.shape)\n",
        "print(\"Test data shape:\", test_data.shape)"
      ],
      "metadata": {
        "trusted": true,
        "execution": {
          "iopub.status.busy": "2025-01-08T06:36:25.32556Z",
          "iopub.execute_input": "2025-01-08T06:36:25.325956Z",
          "iopub.status.idle": "2025-01-08T06:36:25.385785Z",
          "shell.execute_reply.started": "2025-01-08T06:36:25.325924Z",
          "shell.execute_reply": "2025-01-08T06:36:25.384334Z"
        },
        "scrolled": true,
        "id": "H5I-sAqX6_if",
        "outputId": "83bc0734-8155-4629-9af1-91c3b72c4794",
        "colab": {
          "base_uri": "https://localhost:8080/"
        }
      },
      "outputs": [
        {
          "output_type": "stream",
          "name": "stdout",
          "text": [
            "Train data shape: (56000, 784)\n",
            "Test data shape: (14000, 784)\n"
          ]
        }
      ],
      "execution_count": null
    },
    {
      "cell_type": "code",
      "source": [
        "train_data[0].shape"
      ],
      "metadata": {
        "trusted": true,
        "execution": {
          "iopub.status.busy": "2025-01-08T06:36:25.808496Z",
          "iopub.execute_input": "2025-01-08T06:36:25.808932Z",
          "iopub.status.idle": "2025-01-08T06:36:25.816024Z",
          "shell.execute_reply.started": "2025-01-08T06:36:25.808898Z",
          "shell.execute_reply": "2025-01-08T06:36:25.81446Z"
        },
        "id": "dysqYVWy6_ig",
        "outputId": "a2e18ca9-2c02-43c9-b562-8926e95a610a",
        "colab": {
          "base_uri": "https://localhost:8080/"
        }
      },
      "outputs": [
        {
          "output_type": "execute_result",
          "data": {
            "text/plain": [
              "(784,)"
            ]
          },
          "metadata": {},
          "execution_count": 91
        }
      ],
      "execution_count": null
    },
    {
      "cell_type": "code",
      "source": [
        "train_data[0]"
      ],
      "metadata": {
        "trusted": true,
        "_kg_hide-input": true,
        "execution": {
          "iopub.status.busy": "2025-01-08T06:36:26.404788Z",
          "iopub.execute_input": "2025-01-08T06:36:26.4052Z",
          "iopub.status.idle": "2025-01-08T06:36:26.409923Z",
          "shell.execute_reply.started": "2025-01-08T06:36:26.405165Z",
          "shell.execute_reply": "2025-01-08T06:36:26.408185Z"
        },
        "id": "SgzZhXED6_ig",
        "colab": {
          "base_uri": "https://localhost:8080/"
        },
        "outputId": "80ebc77a-bc99-4434-d493-c7ac48c04b26"
      },
      "outputs": [
        {
          "output_type": "execute_result",
          "data": {
            "text/plain": [
              "array([  0,   0,   0,   0,   0,   0,   0,   0,   0,   0,   0,   0,   0,\n",
              "         0,   0,   0,   0,   0,   0,   0,   0,   0,   0,   0,   0,   0,\n",
              "         0,   0,   0,   0,   0,   0,   0,   0,   0,   0,   0,   0,   0,\n",
              "         0,   0,   0,   0,   0,   0,   0,   0,   0,   0,   0,   0,   0,\n",
              "         0,   0,   0,   0,   0,   0,   0,   0,   0,   0,   0,   0,   0,\n",
              "         0,   0,   0,   0,   0,   0,   0,   0,   0,   0,   0,   0,   0,\n",
              "         0,   0,   0,   0,   0,   0,   0,   0,   0,   0,   0,   0,   0,\n",
              "         0,   0,   0,   0,   0,   0,   0,   0,   0,   0,   0,   0,   0,\n",
              "         0,   0,   0,   0,   0,   0,   0,   0,   0,   0,   0,   0,   0,\n",
              "         0,   0,   0,   0,   0,   0,   0,   0,   0,   0,   0,   0,   0,\n",
              "         0,   0,   0,   0,   0,   0,   0,   0,   0,   0,   0,   0,   0,\n",
              "         0,   0,   0,   0,   0,   0,   0,   0,   0,   0,   0,   0,   0,\n",
              "         0,   0,   0,   0,   0,   0,   0,   0,   0,   0,   0,   0,   0,\n",
              "         0,   0,   0,   0,   0,   0,   0,   0,   0,   0,   0,   0,   0,\n",
              "         0,   0,   0,   0,   0,   0,   0,   0,   0,   0,   0,   0,   0,\n",
              "         0,   0,   0,   0,   0,   0,   0,   0,   0,   0,   0,   0,   0,\n",
              "         0,   0,  16,  76,   0,   0,   0,   0,   0,  28,  94, 126,   0,\n",
              "         0,   0,   0,   0,   0,   0,   0,   0,   0,   0,   0,   0,   0,\n",
              "         0,   0,   0,  14, 196, 245,  89,   0,   0,   0,  54, 157, 253,\n",
              "       194,   0,   0,   0,   0,   0,   0,   0,   0,   0,   0,   0,   0,\n",
              "         0,   0,   0,   0,   8, 193, 254, 253, 245, 199, 199, 200, 249,\n",
              "       253, 212,  61,   0,   0,   0,   0,   0,   0,   0,   0,   0,   0,\n",
              "         0,   0,   0,   0,   0,  14, 167, 253, 254, 201, 175, 253, 253,\n",
              "       254, 253, 240,  86,   0,   0,   0,   0,   0,   0,   0,   0,   0,\n",
              "         0,   0,   0,   0,   0,   0,  16, 163, 254, 254, 124,   7,   0,\n",
              "         6, 170, 255, 218,  46,   0,   0,   0,   0,   0,   0,   0,   0,\n",
              "         0,   0,   0,   0,   0,   0,   0,   0, 158, 253, 229,  69,   0,\n",
              "         0,  47, 198, 253, 147,  14,   0,   0,   0,   0,   0,   0,   0,\n",
              "         0,   0,   0,   0,   0,   0,   0,   0,   0,   0,  53, 127,  40,\n",
              "         0,   0,  34, 190, 253, 194,   0,   0,   0,   0,   0,   0,   0,\n",
              "         0,   0,   0,   0,   0,   0,   0,   0,   0,   0,   0,   0,   0,\n",
              "         0,   0,   0,  71, 243, 253, 167,  16,   0,   0,   0,   0,   0,\n",
              "         0,   0,   0,   0,   0,   0,   0,   0,   0,   0,   0,   0,   0,\n",
              "         0,   0,   0,   0,  33, 228, 253, 194,  41,   0,   0,   0,   0,\n",
              "         0,   0,   0,   0,   0,   0,   0,   0,   0,   0,   0,   0,   0,\n",
              "         0,   0,   0,   0,   0,  38, 228, 255, 160,  13,   0,   0,   0,\n",
              "         0,   0,   0,   0,   0,   0,   0,   0,   0,   0,   0,   0,   0,\n",
              "         0,   0,   0,   0,   0,   0,  60, 224, 253, 115,   8,   0,   0,\n",
              "         0,   0,   0,   0,   0,   0,   0,   0,   0,   0,   0,   0,   0,\n",
              "         0,   0,   0,   0,   0,   0,   0,  73, 248, 250, 120,   0,   0,\n",
              "         0,   0,   0,   0,   0,   0,   0,   0,   0,   0,   0,   0,   0,\n",
              "         0,   0,   0,   0,   0,   0,   0,   7, 103, 249, 244,  89,   0,\n",
              "         0,   0,   0,   0,   0,   0,   0,   0,   0,   0,   0,   0,   0,\n",
              "         0,   0,   0,   0,   0,   0,   0,   0,   0, 124, 254, 253,  62,\n",
              "         0,   0,   0,   0,   0,   0,   0,   0,   0,   0,   0,   0,   0,\n",
              "         0,   0,   0,   0,   0,   0,   0,   0,   0,  37, 183, 254, 208,\n",
              "        13,   0,   0,   0,   0,   0,   0,   0,   0,   0,   0,   0,   0,\n",
              "         0,   0,   0,   0,   0,   0,   0,   0,   0,   0,  12, 186, 253,\n",
              "       181,   7,   0,   0,   0,   0,   0,   0,   0,   0,   0,   0,   0,\n",
              "         0,   0,   0,   0,   0,   0,   0,   0,   0,   0,   0,  69, 186,\n",
              "       253, 146,  11,   0,   0,   0,   0,   0,   0,   0,   0,   0,   0,\n",
              "         0,   0,   0,   0,   0,   0,   0,   0,   0,   0,   0,   0,   0,\n",
              "       107, 144,  99,  12,   0,   0,   0,   0,   0,   0,   0,   0,   0,\n",
              "         0,   0,   0,   0,   0,   0,   0,   0,   0,   0,   0,   0,   0,\n",
              "         0,   0,   0,   0,   0,   0,   0,   0,   0,   0,   0,   0,   0,\n",
              "         0,   0,   0,   0,   0,   0,   0,   0,   0,   0,   0,   0,   0,\n",
              "         0,   0,   0,   0,   0,   0,   0,   0,   0,   0,   0,   0,   0,\n",
              "         0,   0,   0,   0,   0,   0,   0,   0,   0,   0,   0,   0,   0,\n",
              "         0,   0,   0,   0,   0,   0,   0,   0,   0,   0,   0,   0,   0,\n",
              "         0,   0,   0,   0,   0,   0,   0,   0,   0,   0,   0,   0,   0,\n",
              "         0,   0,   0,   0], dtype=uint8)"
            ]
          },
          "metadata": {},
          "execution_count": 92
        }
      ],
      "execution_count": null
    },
    {
      "cell_type": "code",
      "source": [
        "# Convert to PyTorch tensors\n",
        "train_data = torch.tensor(train_data, dtype=torch.float32)\n",
        "train_labels = torch.tensor(train_labels, dtype=torch.long)\n",
        "test_data = torch.tensor(test_data, dtype=torch.float32)\n",
        "test_labels = torch.tensor(test_labels, dtype=torch.long)"
      ],
      "metadata": {
        "trusted": true,
        "execution": {
          "iopub.status.busy": "2025-01-08T06:36:27.262063Z",
          "iopub.execute_input": "2025-01-08T06:36:27.262537Z",
          "iopub.status.idle": "2025-01-08T06:36:27.43501Z",
          "shell.execute_reply.started": "2025-01-08T06:36:27.262498Z",
          "shell.execute_reply": "2025-01-08T06:36:27.433755Z"
        },
        "id": "8fua7ved6_ig"
      },
      "outputs": [],
      "execution_count": null
    },
    {
      "cell_type": "markdown",
      "source": [
        "The values range from 0 to 1, with 0 representing black, 1 white and the values between different shades of grey."
      ],
      "metadata": {
        "id": "yoqAQFVS6_ig"
      }
    },
    {
      "cell_type": "code",
      "source": [
        "# Normalize the data (scale pixel values to [0, 1])\n",
        "train_data = train_data / 255.0\n",
        "test_data = test_data / 255.0\n"
      ],
      "metadata": {
        "trusted": true,
        "execution": {
          "iopub.status.busy": "2025-01-08T06:36:29.216932Z",
          "iopub.execute_input": "2025-01-08T06:36:29.217439Z",
          "iopub.status.idle": "2025-01-08T06:36:29.407115Z",
          "shell.execute_reply.started": "2025-01-08T06:36:29.217396Z",
          "shell.execute_reply": "2025-01-08T06:36:29.405887Z"
        },
        "id": "5G_IYxLC6_ih"
      },
      "outputs": [],
      "execution_count": null
    },
    {
      "cell_type": "markdown",
      "source": [
        "\n",
        "\n",
        "For a CNN, we need the data in the format: [Batch Size, Channels, Height, Width]\n",
        "\n",
        "\n",
        "- **Batch Size**: Number of images in a batch.\n",
        "- **Channels**: 1 for grayscale images, 3 for RGB images.\n",
        "- **Height**: 28 (image height).\n",
        "- **Width**: 28 (image width).\n",
        "\n",
        "\n",
        "\n",
        "\n",
        "`.reshape(-1, 1, 28, 28)`\n",
        "\n",
        "- `.reshape()`: Reshapes the tensor to the specified dimensions.\n",
        "- `-1`: Automatically calculates the batch size (N) based on the other dimensions.\n",
        "- `1`: Adds a channel dimension (since MNIST images are grayscale).\n",
        "- `28, 28`: Reshapes each image to its original 28x28 size.\n",
        "\n",
        "#### Before Reshaping\n",
        "- **train_data shape**: `[56000, 784]`\n",
        "  - 56,000 images.\n",
        "  - Each image is a 1D array of 784 values.\n",
        "\n",
        "#### After Reshaping\n",
        "- **train_data shape**: `[56000, 1, 28, 28]`\n",
        "  - 6,000 images.\n",
        "  - 1 channel (grayscale).\n",
        "  - Each image is 28x28 pixels.\n",
        "\n"
      ],
      "metadata": {
        "id": "z34jivzT6_ih"
      }
    },
    {
      "cell_type": "code",
      "source": [
        "# Reshape the data to [N, 1, 28, 28] (MNIST images are 28x28 and grayscale)\n",
        "train_data = train_data.reshape(-1, 1, 28, 28)\n",
        "test_data = test_data.reshape(-1, 1, 28, 28)\n",
        "\n",
        "print(\"Train data shape:\", train_data.shape)\n",
        "print(\"Test data shape:\", test_data.shape)"
      ],
      "metadata": {
        "trusted": true,
        "execution": {
          "iopub.status.busy": "2025-01-08T06:36:30.647334Z",
          "iopub.execute_input": "2025-01-08T06:36:30.647753Z",
          "iopub.status.idle": "2025-01-08T06:36:30.655158Z",
          "shell.execute_reply.started": "2025-01-08T06:36:30.647718Z",
          "shell.execute_reply": "2025-01-08T06:36:30.653848Z"
        },
        "id": "kwTdbllR6_ii",
        "outputId": "81c2690a-58b3-4a42-fd09-74115b69c4a2",
        "colab": {
          "base_uri": "https://localhost:8080/"
        }
      },
      "outputs": [
        {
          "output_type": "stream",
          "name": "stdout",
          "text": [
            "Train data shape: torch.Size([56000, 1, 28, 28])\n",
            "Test data shape: torch.Size([14000, 1, 28, 28])\n"
          ]
        }
      ],
      "execution_count": null
    },
    {
      "cell_type": "markdown",
      "source": [
        "The image is now converted to a **28 x 28 tensor**.\n",
        "\n",
        "- The **first dimension** is used to keep track of the color channels.  \n",
        "- Since images in the **MNIST dataset are grayscale**, there is only **one channel**.\n",
        "\n",
        "For datasets with color images, the color channels would typically be **3 (Red, Green, Blue - RGB)**.\n",
        "\n",
        "#### Example:\n",
        "- Grayscale image tensor: **[1, 28, 28]**\n",
        "  - **1**: Represents the single grayscale channel.\n",
        "  - **28 x 28**: Represents the image dimensions (height and width).\n",
        "\n",
        "- RGB image tensor: **[3, 28, 28]**\n",
        "  - **3**: Represents the color channels (Red, Green, Blue).\n",
        "  - **28 x 28**: Represents the image dimensions (height and width).\n"
      ],
      "metadata": {
        "id": "6gbXeXWh6_ii"
      }
    },
    {
      "cell_type": "code",
      "source": [
        "train_data[0].shape"
      ],
      "metadata": {
        "trusted": true,
        "execution": {
          "iopub.status.busy": "2025-01-08T06:36:33.402365Z",
          "iopub.execute_input": "2025-01-08T06:36:33.402826Z",
          "iopub.status.idle": "2025-01-08T06:36:33.409913Z",
          "shell.execute_reply.started": "2025-01-08T06:36:33.40279Z",
          "shell.execute_reply": "2025-01-08T06:36:33.408813Z"
        },
        "id": "Rj4yltCk6_ii",
        "outputId": "d21ff64e-3536-40cb-d611-ecf01e55d5ed",
        "colab": {
          "base_uri": "https://localhost:8080/"
        }
      },
      "outputs": [
        {
          "output_type": "execute_result",
          "data": {
            "text/plain": [
              "torch.Size([1, 28, 28])"
            ]
          },
          "metadata": {},
          "execution_count": 96
        }
      ],
      "execution_count": null
    },
    {
      "cell_type": "code",
      "source": [
        "plt.figure(figsize=(20, 10))\n",
        "\n",
        "# Plot 6 images\n",
        "for i in range(6):\n",
        "    plt.subplot(2, 3, i + 1)  # 2 rows, 3 columns, subplot i+1\n",
        "    plt.imshow(train_data[i][0], cmap='gray', interpolation='none')  # Display grayscale image\n",
        "    plt.title(f\"Label: {train_labels[i].item()}\")  # Show the label\n",
        "    plt.xticks([])  # Remove x-axis ticks\n",
        "    plt.yticks([])  # Remove y-axis ticks\n",
        "\n",
        "plt.tight_layout()\n",
        "plt.show()"
      ],
      "metadata": {
        "trusted": true,
        "execution": {
          "iopub.status.busy": "2025-01-08T06:36:40.5358Z",
          "iopub.execute_input": "2025-01-08T06:36:40.536276Z",
          "iopub.status.idle": "2025-01-08T06:36:40.934741Z",
          "shell.execute_reply.started": "2025-01-08T06:36:40.536201Z",
          "shell.execute_reply": "2025-01-08T06:36:40.933158Z"
        },
        "id": "YxA31IEs6_ii",
        "outputId": "27c0864b-3add-4988-b43e-0bbc30a54ea7",
        "colab": {
          "base_uri": "https://localhost:8080/",
          "height": 530
        }
      },
      "outputs": [
        {
          "output_type": "display_data",
          "data": {
            "text/plain": [
              "<Figure size 2000x1000 with 6 Axes>"
            ],
            "image/png": "[encoded data removed]"
          },
          "metadata": {}
        }
      ],
      "execution_count": null
    },
    {
      "cell_type": "code",
      "source": [
        "train_data.shape"
      ],
      "metadata": {
        "trusted": true,
        "execution": {
          "iopub.status.busy": "2025-01-08T06:36:42.456269Z",
          "iopub.execute_input": "2025-01-08T06:36:42.456725Z",
          "iopub.status.idle": "2025-01-08T06:36:42.463924Z",
          "shell.execute_reply.started": "2025-01-08T06:36:42.456689Z",
          "shell.execute_reply": "2025-01-08T06:36:42.462556Z"
        },
        "id": "H6rr68XO6_im",
        "outputId": "e8e44728-d327-41fd-9909-a76a7bd7c183",
        "colab": {
          "base_uri": "https://localhost:8080/"
        }
      },
      "outputs": [
        {
          "output_type": "execute_result",
          "data": {
            "text/plain": [
              "torch.Size([56000, 1, 28, 28])"
            ]
          },
          "metadata": {},
          "execution_count": 98
        }
      ],
      "execution_count": null
    },
    {
      "cell_type": "code",
      "source": [
        "train_data, val_data = train_data[:46000] , train_data[46000:]\n",
        "train_labels, val_labels = train_labels[:46000] , train_labels[46000:]"
      ],
      "metadata": {
        "trusted": true,
        "execution": {
          "iopub.status.busy": "2025-01-08T06:36:45.133053Z",
          "iopub.execute_input": "2025-01-08T06:36:45.133521Z",
          "iopub.status.idle": "2025-01-08T06:36:45.138848Z",
          "shell.execute_reply.started": "2025-01-08T06:36:45.133483Z",
          "shell.execute_reply": "2025-01-08T06:36:45.137317Z"
        },
        "id": "mK-lg-4I6_in"
      },
      "outputs": [],
      "execution_count": null
    },
    {
      "cell_type": "code",
      "source": [
        "train_dataset = torch.utils.data.TensorDataset(train_data, train_labels)\n",
        "val_dataset = torch.utils.data.TensorDataset(val_data, val_labels)\n",
        "test_dataset = torch.utils.data.TensorDataset(test_data, test_labels)\n",
        "\n",
        "batch_size = 20\n",
        "train_loader = torch.utils.data.DataLoader(train_dataset, batch_size=batch_size, shuffle=True)\n",
        "val_loader = torch.utils.data.DataLoader(val_dataset, batch_size=batch_size, shuffle=True)\n",
        "test_loader = torch.utils.data.DataLoader(test_dataset, batch_size=batch_size, shuffle=False)"
      ],
      "metadata": {
        "trusted": true,
        "execution": {
          "iopub.status.busy": "2025-01-08T06:36:45.547409Z",
          "iopub.execute_input": "2025-01-08T06:36:45.547808Z",
          "iopub.status.idle": "2025-01-08T06:36:45.555563Z",
          "shell.execute_reply.started": "2025-01-08T06:36:45.547775Z",
          "shell.execute_reply": "2025-01-08T06:36:45.553827Z"
        },
        "id": "RaotqI2O6_io"
      },
      "outputs": [],
      "execution_count": null
    },
    {
      "cell_type": "markdown",
      "source": [
        "## Define the CNN architecture\n",
        "\n",
        "\n",
        "\n",
        "\n"
      ],
      "metadata": {
        "id": "v1kRMZIM6_io"
      }
    },
    {
      "cell_type": "markdown",
      "source": [
        "<img src=\"https://raw.githubusercontent.com/floydhub/mnist/master/images/mnist_convet.png\">"
      ],
      "metadata": {
        "id": "jm_qRV176_io"
      }
    },
    {
      "cell_type": "markdown",
      "source": [
        "The formula for the output size is:\n",
        "\n",
        "$$\n",
        "\\text{output_size} = \\left\\lfloor \\frac{(\\text{input_size} - \\text{kernel_size} + 2 \\times \\text{padding})}{\\text{stride}} \\right\\rfloor + 1\n",
        "$$\n",
        "\n",
        "Where:\n",
        "- **input_size**: Size of the input (height or width).\n",
        "- **kernel_size**: Size of the convolutional kernel/filter.\n",
        "- **padding**: Amount of zero-padding added to the input.\n",
        "- **stride**: The step size of the kernel while convolving the input.\n"
      ],
      "metadata": {
        "id": "caN-RggI6_ip"
      }
    },
    {
      "cell_type": "code",
      "source": [
        "class ConvNet(nn.Module):\n",
        "    def __init__(self):\n",
        "        super(ConvNet, self).__init__()\n",
        "        # Layer 1\n",
        "        self.conv1 = nn.Conv2d(in_channels=1, out_channels=10, kernel_size=5, stride=1)\n",
        "        self.pool1 = nn.MaxPool2d(kernel_size=5, stride=2)\n",
        "\n",
        "        # Layer 2\n",
        "        self.conv2 = nn.Conv2d(in_channels=10, out_channels=20, kernel_size=3, stride=1)\n",
        "        self.pool2 = nn.MaxPool2d(kernel_size=2, stride=2)\n",
        "\n",
        "        # Fully Connected Layers\n",
        "        self.fc1 = nn.Linear(20*4*4, 50)\n",
        "        self.fc2 = nn.Linear(50, 10)\n",
        "\n",
        "    def forward(self, x):\n",
        "        # Layer 1: Apply conv, ReLU, and pooling\n",
        "        x = F.relu(self.conv1(x))\n",
        "        x = self.pool1(x)\n",
        "\n",
        "        # Layer 2: Apply conv, ReLU, and pooling\n",
        "        x = F.relu(self.conv2(x))\n",
        "        x = self.pool2(x)\n",
        "\n",
        "        # Flatten before the fully connected layers\n",
        "        x = x.reshape(-1, 20*4*4)\n",
        "\n",
        "        # Fully Connected Layers with ReLU for the first one\n",
        "        x = F.relu(self.fc1(x))\n",
        "        x = self.fc2(x)\n",
        "\n",
        "        return x\n",
        "\n",
        "# Instantiate the model\n",
        "model = ConvNet().to(\"cpu\")\n",
        "print(model)\n"
      ],
      "metadata": {
        "trusted": true,
        "execution": {
          "iopub.status.busy": "2025-01-08T06:39:57.701799Z",
          "iopub.execute_input": "2025-01-08T06:39:57.702221Z",
          "iopub.status.idle": "2025-01-08T06:39:57.717318Z",
          "shell.execute_reply.started": "2025-01-08T06:39:57.702186Z",
          "shell.execute_reply": "2025-01-08T06:39:57.716365Z"
        },
        "id": "MLKh3LVi6_iq",
        "outputId": "e152b563-7db4-4bdf-8536-5fb84d692b95",
        "colab": {
          "base_uri": "https://localhost:8080/"
        }
      },
      "outputs": [
        {
          "output_type": "stream",
          "name": "stdout",
          "text": [
            "ConvNet(\n",
            "  (conv1): Conv2d(1, 10, kernel_size=(5, 5), stride=(1, 1))\n",
            "  (pool1): MaxPool2d(kernel_size=5, stride=2, padding=0, dilation=1, ceil_mode=False)\n",
            "  (conv2): Conv2d(10, 20, kernel_size=(3, 3), stride=(1, 1))\n",
            "  (pool2): MaxPool2d(kernel_size=2, stride=2, padding=0, dilation=1, ceil_mode=False)\n",
            "  (fc1): Linear(in_features=320, out_features=50, bias=True)\n",
            "  (fc2): Linear(in_features=50, out_features=10, bias=True)\n",
            ")\n"
          ]
        }
      ],
      "execution_count": null
    },
    {
      "cell_type": "markdown",
      "source": [
        "## Practise making model class"
      ],
      "metadata": {
        "id": "PIHvdARW6_ir"
      }
    },
    {
      "cell_type": "code",
      "source": [
        "# TASK: Create a PyTorch model for a classification problem with the following requirements:\n",
        "# - Two convolutional layers (with ReLU activations and max pooling).\n",
        "# - A fully connected (dense) hidden layer.\n",
        "# - An output layer for classifying into 5 categories.\n",
        "# Follow the comments below to complete the task.\n",
        "\n",
        "class PracticeModel(nn.Module):\n",
        "    def __init__(self):\n",
        "        super(PracticeModel, self).__init__()\n",
        "\n",
        "        # STEP 1: Define the first convolutional layer\n",
        "        # - Input channels: 1 (e.g., grayscale image)\n",
        "        # - Output channels: 16\n",
        "        # - Kernel size: 3\n",
        "        # - Add padding=1 to keep the spatial dimensions\n",
        "\n",
        "\n",
        "        # STEP 2: Define the second convolutional layer\n",
        "        # - Input channels: 16 (from the previous layer)\n",
        "        # - Output channels: 32\n",
        "        # - Kernel size: 3\n",
        "        # - Add padding=1 to keep the spatial dimensions\n",
        "\n",
        "\n",
        "        # STEP 3: Define a max pooling layer\n",
        "        # - Kernel size: 2\n",
        "        # - Stride: 2\n",
        "\n",
        "\n",
        "        # STEP 4: Define a fully connected (dense) hidden layer\n",
        "        # - Input features: You need to calculate the flattened size of the feature map\n",
        "        #   after the convolutional and pooling layers. Assume the input image size is 28x28.\n",
        "        # - Output features: 128\n",
        "\n",
        "\n",
        "        # STEP 5: Define the output layer\n",
        "        # - Input features: 128 (from the hidden layer)\n",
        "        # - Output features: 5 (for 5 categories)\n",
        "\n",
        "\n",
        "    def forward(self, x):\n",
        "        # STEP 6: Implement the forward pass\n",
        "        # - Apply the first convolutional layer followed by ReLU\n",
        "\n",
        "\n",
        "        # - Apply the pooling layer\n",
        "\n",
        "\n",
        "        # - Apply the second convolutional layer followed by ReLU\n",
        "\n",
        "\n",
        "        # - Apply the pooling layer again\n",
        "\n",
        "\n",
        "        # STEP 7: Flatten the feature map before feeding it into the fully connected layer\n",
        "\n",
        "\n",
        "        # - Apply the first fully connected layer followed by ReLU\n",
        "\n",
        "\n",
        "        # - Apply the output layer\n",
        "\n",
        "\n",
        "        return x\n",
        "\n",
        "# STEP 8: Instantiate your model and print it\n",
        "# - This will help you verify the layers and their connections\n",
        "model_ = PracticeModel()\n",
        "print(model_)\n",
        "\n",
        "# HINT: Use this as a skeleton, and adjust input/output sizes as needed for other tasks!\n"
      ],
      "metadata": {
        "trusted": true,
        "execution": {
          "iopub.status.busy": "2025-01-08T07:10:42.484464Z",
          "iopub.execute_input": "2025-01-08T07:10:42.484887Z",
          "iopub.status.idle": "2025-01-08T07:10:42.493482Z",
          "shell.execute_reply.started": "2025-01-08T07:10:42.484853Z",
          "shell.execute_reply": "2025-01-08T07:10:42.492171Z"
        },
        "id": "Mj0oXU2k6_ir",
        "outputId": "edc145bc-2f99-443d-af4b-f8b63d1b140a",
        "colab": {
          "base_uri": "https://localhost:8080/"
        }
      },
      "outputs": [
        {
          "output_type": "stream",
          "name": "stdout",
          "text": [
            "PracticeModel()\n"
          ]
        }
      ],
      "execution_count": null
    },
    {
      "cell_type": "code",
      "source": [],
      "metadata": {
        "id": "4XQwmxTAl39G"
      },
      "execution_count": null,
      "outputs": []
    },
    {
      "cell_type": "code",
      "source": [
        "criterion = nn.CrossEntropyLoss()\n",
        "optimizer = optim.SGD(model.parameters(), lr=0.001)"
      ],
      "metadata": {
        "trusted": true,
        "execution": {
          "iopub.status.busy": "2025-01-08T06:56:18.530049Z",
          "iopub.execute_input": "2025-01-08T06:56:18.53057Z",
          "iopub.status.idle": "2025-01-08T06:56:18.536122Z",
          "shell.execute_reply.started": "2025-01-08T06:56:18.530528Z",
          "shell.execute_reply": "2025-01-08T06:56:18.534649Z"
        },
        "id": "aR0T6Y2t6_is"
      },
      "outputs": [],
      "execution_count": null
    },
    {
      "cell_type": "code",
      "source": [
        "device = torch.device('cuda:0' if torch.cuda.is_available() else 'cpu')"
      ],
      "metadata": {
        "trusted": true,
        "execution": {
          "iopub.status.busy": "2025-01-08T06:56:20.355118Z",
          "iopub.execute_input": "2025-01-08T06:56:20.355663Z",
          "iopub.status.idle": "2025-01-08T06:56:20.360275Z",
          "shell.execute_reply.started": "2025-01-08T06:56:20.35562Z",
          "shell.execute_reply": "2025-01-08T06:56:20.359279Z"
        },
        "id": "dKRcMmnL6_is"
      },
      "outputs": [],
      "execution_count": null
    },
    {
      "cell_type": "markdown",
      "source": [
        "## Model Training"
      ],
      "metadata": {
        "id": "2s06VDtY6_is"
      }
    },
    {
      "cell_type": "markdown",
      "source": [
        "#### 1. **`torch.no_grad()`**\n",
        "\n",
        "- **Purpose**: This context manager temporarily disables gradient tracking. It is used when performing inference (model evaluation) or validation, where you don’t need to update the model’s weights.\n",
        "- **Why It's Used**: During evaluation or inference, you don't need gradients because the model is not being trained. **Disabling gradient tracking reduces memory usage and computation time.**\n",
        "\n",
        "#### 2. **`optimizer.zero_grad()`**\n",
        "\n",
        "- **Purpose**: This method clears the gradients of all model parameters. Gradients are accumulated in PyTorch by default (i.e., **gradients are not overwritten in each backward pass**).\n",
        "- **Why It's Used**: Before performing the backward pass and updating the weights, it’s crucial to **zero out the previous gradients** to avoid mixing them with the current ones. This ensures that the model updates are based only on the current batch of data.\n",
        "\n",
        "#### 3. **`model.train()`**\n",
        "\n",
        "- **Purpose**: This method sets the model in \"training mode\". It tells the model that it is in the training phase and should behave accordingly.\n",
        "- **Behavior**: Certain layers like **Dropout** and **BatchNorm** behave differently during training and evaluation. For example, **Dropout randomly zeros out units during training**, but not during inference.\n",
        "- **Why It's Used**: Before training a model, you should call `model.train()` to ensure that all layers and components of the model are in the correct state for training.\n",
        "\n",
        "#### 4. **`model.eval()`**\n",
        "\n",
        "- **Purpose**: This method sets the model in \"evaluation mode\". It is used when you are evaluating the model on validation or test data.\n",
        "- **Behavior**: Layers like **Dropout** and **BatchNorm** now behave differently (e.g., **Dropout is turned off** and **BatchNorm uses running statistics**).\n",
        "- **Why It's Used**: After training, before validating or testing, call `model.eval()` to ensure the model’s layers behave correctly during inference and avoid any randomness (e.g., due to Dropout).\n",
        "\n",
        "\n"
      ],
      "metadata": {
        "id": "vSGYFcea6_it"
      }
    },
    {
      "cell_type": "code",
      "source": [
        "model.eval()\n",
        "with torch.no_grad():\n",
        "    correct, total = 0.0, 0.0\n",
        "    for inputs, labels in test_loader:\n",
        "        inputs, labels = inputs.to(device), labels.to(device)\n",
        "        outputs = model(inputs)\n",
        "        _, predicted = torch.max(outputs.data, 1)\n",
        "        total += labels.size(0)\n",
        "        correct += (predicted == labels).sum().item()\n",
        "\n",
        "print('Test Accuracy: {:.2f}%'.format(100 * correct / total))"
      ],
      "metadata": {
        "trusted": true,
        "execution": {
          "iopub.status.busy": "2025-01-08T06:56:27.521715Z",
          "iopub.execute_input": "2025-01-08T06:56:27.522208Z",
          "iopub.status.idle": "2025-01-08T06:56:30.119554Z",
          "shell.execute_reply.started": "2025-01-08T06:56:27.522157Z",
          "shell.execute_reply": "2025-01-08T06:56:30.117956Z"
        },
        "id": "xVFYOncM6_iu",
        "outputId": "c1f00ddc-ac83-4427-fe4f-99e3eefaf665",
        "colab": {
          "base_uri": "https://localhost:8080/"
        }
      },
      "outputs": [
        {
          "output_type": "stream",
          "name": "stdout",
          "text": [
            "Test Accuracy: 9.49%\n"
          ]
        }
      ],
      "execution_count": null
    },
    {
      "cell_type": "code",
      "source": [
        "num_epochs = 5\n",
        "train_losses, val_losses = [], []\n",
        "\n",
        "for epoch in range(1, num_epochs + 1):\n",
        "    train_loss, val_loss = 0.0, 0.0\n",
        "    correct,total  = 0.0,0.0\n",
        "\n",
        "    model.train() # prepare model for training\n",
        "    for inputs, labels in train_loader:\n",
        "        inputs, labels = inputs.to(device), labels.to(device)\n",
        "\n",
        "        # clear the gradients\n",
        "        optimizer.zero_grad()\n",
        "        # forward pass: compute predicted outputs\n",
        "        output = model(inputs)\n",
        "        # calculate the loss\n",
        "        loss = criterion(output, labels)\n",
        "        # backward pass: compute gradient\n",
        "        loss.backward()\n",
        "        # perform a optimization step (weight update)\n",
        "        optimizer.step()\n",
        "        # update running training loss\n",
        "        train_loss += loss.item()\n",
        "\n",
        "    model.eval() # validate the model\n",
        "    with torch.no_grad():\n",
        "\n",
        "        for inputs, labels in val_loader:\n",
        "            inputs, labels = inputs.to(device), labels.to(device)\n",
        "            output = model(inputs)\n",
        "            loss = criterion(output, labels)\n",
        "            val_loss += loss.item()\n",
        "\n",
        "            _, predicted = torch.max(output.data, 1)\n",
        "            total += labels.size(0)\n",
        "            correct += (predicted == labels).sum().item()\n",
        "\n",
        "\n",
        "    # calculate average loss over an epoch\n",
        "    train_loss = train_loss/len(train_loader)\n",
        "    val_loss = val_loss/len(val_loader)\n",
        "    train_losses.append(train_loss)\n",
        "    val_losses.append(val_loss)\n",
        "\n",
        "    print('Epoch: {} \\tTraining Loss: {:.6f} \\tValidation Loss: {:.6f} \\tValidation Accuracy: {:.2f}%'.format(\n",
        "            epoch, train_loss, val_loss, 100 * correct / total))\n"
      ],
      "metadata": {
        "trusted": true,
        "execution": {
          "iopub.status.busy": "2025-01-08T06:56:31.810372Z",
          "iopub.execute_input": "2025-01-08T06:56:31.810803Z",
          "iopub.status.idle": "2025-01-08T06:58:17.136864Z",
          "shell.execute_reply.started": "2025-01-08T06:56:31.810768Z",
          "shell.execute_reply": "2025-01-08T06:58:17.135632Z"
        },
        "id": "DlCxJfzo6_iu",
        "outputId": "3d669612-f95b-478d-dc78-11e87a7fb4ea",
        "colab": {
          "base_uri": "https://localhost:8080/"
        }
      },
      "outputs": [
        {
          "output_type": "stream",
          "name": "stdout",
          "text": [
            "Epoch: 1 \tTraining Loss: 2.291123 \tValidation Loss: 2.268739 \tValidation Accuracy: 27.11%\n",
            "Epoch: 2 \tTraining Loss: 2.209133 \tValidation Loss: 2.082834 \tValidation Accuracy: 50.66%\n",
            "Epoch: 3 \tTraining Loss: 1.514527 \tValidation Loss: 0.847230 \tValidation Accuracy: 79.22%\n",
            "Epoch: 4 \tTraining Loss: 0.584431 \tValidation Loss: 0.419033 \tValidation Accuracy: 88.29%\n",
            "Epoch: 5 \tTraining Loss: 0.342840 \tValidation Loss: 0.293662 \tValidation Accuracy: 91.39%\n"
          ]
        }
      ],
      "execution_count": null
    },
    {
      "cell_type": "code",
      "source": [
        "model.eval()  # prepare model for evaluation\n",
        "with torch.no_grad():\n",
        "    correct, total = 0.0, 0.0\n",
        "    for inputs, labels in test_loader:\n",
        "        inputs, labels = inputs.to(device), labels.to(device)\n",
        "        outputs = model(inputs)\n",
        "        _, predicted = torch.max(outputs.data, 1)\n",
        "        total += labels.size(0)\n",
        "        correct += (predicted == labels).sum().item()\n",
        "\n",
        "print('Test Accuracy: {:.2f}%'.format(100 * correct / total))"
      ],
      "metadata": {
        "trusted": true,
        "execution": {
          "iopub.status.busy": "2025-01-08T06:41:40.946908Z",
          "iopub.execute_input": "2025-01-08T06:41:40.947378Z",
          "iopub.status.idle": "2025-01-08T06:41:42.879639Z",
          "shell.execute_reply.started": "2025-01-08T06:41:40.947329Z",
          "shell.execute_reply": "2025-01-08T06:41:42.87837Z"
        },
        "id": "K0Kc0MF16_iu",
        "outputId": "ba8a8ce0-1fc0-4d2b-897c-7d75ba91c0a3",
        "colab": {
          "base_uri": "https://localhost:8080/"
        }
      },
      "outputs": [
        {
          "output_type": "stream",
          "name": "stdout",
          "text": [
            "Test Accuracy: 91.98%\n"
          ]
        }
      ],
      "execution_count": null
    },
    {
      "cell_type": "code",
      "source": [
        "x_values = list(range(1,num_epochs+1))\n",
        "plt.figure(figsize=(8., 6.))\n",
        "plt.plot(x_values, train_losses, label='Training loss');\n",
        "plt.plot(x_values, val_losses, label='Validation loss');\n",
        "plt.xlabel(\"Epochs\");\n",
        "plt.ylabel(\"Loss\");\n",
        "plt.legend(frameon=False);"
      ],
      "metadata": {
        "trusted": true,
        "execution": {
          "iopub.status.busy": "2025-01-08T06:41:43.964698Z",
          "iopub.execute_input": "2025-01-08T06:41:43.965166Z",
          "iopub.status.idle": "2025-01-08T06:41:44.176743Z",
          "shell.execute_reply.started": "2025-01-08T06:41:43.965127Z",
          "shell.execute_reply": "2025-01-08T06:41:44.175616Z"
        },
        "id": "lUTCkQFH6_iv",
        "outputId": "0872e4f5-944a-4c88-c5c8-90b3501cf7be",
        "colab": {
          "base_uri": "https://localhost:8080/",
          "height": 542
        }
      },
      "outputs": [
        {
          "output_type": "display_data",
          "data": {
            "text/plain": [
              "<Figure size 800x600 with 1 Axes>"
            ],
            "image/png": "[encoded data removed]"
          },
          "metadata": {}
        }
      ],
      "execution_count": null
    },
    {
      "cell_type": "code",
      "source": [
        "torch.save(model.state_dict(), 'model.pth')\n",
        "torch.save(optimizer.state_dict(), 'optimizer.pth')"
      ],
      "metadata": {
        "trusted": true,
        "execution": {
          "iopub.status.busy": "2025-01-07T18:41:37.840235Z",
          "iopub.execute_input": "2025-01-07T18:41:37.840689Z",
          "iopub.status.idle": "2025-01-07T18:41:37.848496Z",
          "shell.execute_reply.started": "2025-01-07T18:41:37.840647Z",
          "shell.execute_reply": "2025-01-07T18:41:37.847079Z"
        },
        "id": "PcGLETQf6_iv"
      },
      "outputs": [],
      "execution_count": null
    },
    {
      "cell_type": "code",
      "source": [
        "# TASK: Implement the `train_fn` and `val_fn` functions for training and validation.\n",
        "# The main loop is provided below. Complete the missing functions as per the instructions.\n",
        "\n",
        "# TASK: Define the `train_fn` function.\n",
        "# It should take the training DataLoader, model, criterion, and optimizer as inputs,\n",
        "# and return the average training loss for the epoch.\n",
        "\n",
        "def train_fn(train_loader, model, criterion, optimizer):\n",
        "    #write your code here\n",
        "    pass\n",
        "\n",
        "\n",
        "# TASK: Define the `val_fn` function.\n",
        "# It should take the validation DataLoader, model, and criterion as inputs (NO optimizer),\n",
        "# and return the average validation loss for the epoch.\n",
        "\n",
        "def val_fn(val_loader, model, criterion):\n",
        "    #write your code here\n",
        "    pass\n",
        "\n",
        "EPOCHS = 25\n",
        "\n",
        "# Main Training Loop\n",
        "for ep in range(EPOCHS):\n",
        "\n",
        "    train_fn(train_loader, model, criterion, optimizer)\n",
        "\n",
        "    val_fn(val_loader, model, criterion)\n",
        "\n"
      ],
      "metadata": {
        "trusted": true,
        "id": "05_eO8hR6_iw",
        "colab": {
          "base_uri": "https://localhost:8080/",
          "height": 211
        },
        "outputId": "12b79f86-6cad-4a07-84b5-83b08f199fc7"
      },
      "outputs": [
        {
          "output_type": "error",
          "ename": "NameError",
          "evalue": "name 'train_loader' is not defined",
          "traceback": [
            "\u001b[0;31m---------------------------------------------------------------------------\u001b[0m",
            "\u001b[0;31mNameError\u001b[0m                                 Traceback (most recent call last)",
            "\u001b[0;32m<ipython-input-1-ab2863b1fee8>\u001b[0m in \u001b[0;36m<cell line: 24>\u001b[0;34m()\u001b[0m\n\u001b[1;32m     24\u001b[0m \u001b[0;32mfor\u001b[0m \u001b[0mep\u001b[0m \u001b[0;32min\u001b[0m \u001b[0mrange\u001b[0m\u001b[0;34m(\u001b[0m\u001b[0mEPOCHS\u001b[0m\u001b[0;34m)\u001b[0m\u001b[0;34m:\u001b[0m\u001b[0;34m\u001b[0m\u001b[0;34m\u001b[0m\u001b[0m\n\u001b[1;32m     25\u001b[0m \u001b[0;34m\u001b[0m\u001b[0m\n\u001b[0;32m---> 26\u001b[0;31m     \u001b[0mtrain_fn\u001b[0m\u001b[0;34m(\u001b[0m\u001b[0mtrain_loader\u001b[0m\u001b[0;34m,\u001b[0m \u001b[0mmodel\u001b[0m\u001b[0;34m,\u001b[0m \u001b[0mcriterion\u001b[0m\u001b[0;34m,\u001b[0m \u001b[0moptimizer\u001b[0m\u001b[0;34m)\u001b[0m\u001b[0;34m\u001b[0m\u001b[0;34m\u001b[0m\u001b[0m\n\u001b[0m\u001b[1;32m     27\u001b[0m \u001b[0;34m\u001b[0m\u001b[0m\n\u001b[1;32m     28\u001b[0m     \u001b[0mval_fn\u001b[0m\u001b[0;34m(\u001b[0m\u001b[0mval_loader\u001b[0m\u001b[0;34m,\u001b[0m \u001b[0mmodel\u001b[0m\u001b[0;34m,\u001b[0m \u001b[0mcriterion\u001b[0m\u001b[0;34m)\u001b[0m\u001b[0;34m\u001b[0m\u001b[0;34m\u001b[0m\u001b[0m\n",
            "\u001b[0;31mNameError\u001b[0m: name 'train_loader' is not defined"
          ]
        }
      ],
      "execution_count": null
    },
    {
      "cell_type": "markdown",
      "source": [
        "## Visualize some predictions"
      ],
      "metadata": {
        "id": "ai0X9yPI6_ix"
      }
    },
    {
      "cell_type": "code",
      "source": [
        "dataiter = iter(test_loader)\n",
        "images, labels = next(dataiter)\n",
        "outputs = model(images)\n",
        "_, predicted = torch.max(outputs, 1)  # Get predicted labels\n",
        "\n",
        "plt.figure(figsize=(20, 10))\n",
        "\n",
        "\n",
        "for i in range(6):\n",
        "    plt.subplot(2, 3, i + 1)  # 2 rows, 3 columns, subplot i+1\n",
        "    plt.imshow(images[i][0], cmap='gray', interpolation='none')\n",
        "    plt.title(\n",
        "        f\"True: {labels[i].item()}\\nPred: {predicted[i].item()}\",\n",
        "        fontsize=20,\n",
        "    )\n",
        "    plt.xticks([])\n",
        "    plt.yticks([])\n",
        "\n",
        "\n",
        "plt.tight_layout()\n",
        "plt.show()"
      ],
      "metadata": {
        "trusted": true,
        "execution": {
          "iopub.status.busy": "2025-01-07T18:51:06.820869Z",
          "iopub.execute_input": "2025-01-07T18:51:06.821355Z",
          "iopub.status.idle": "2025-01-07T18:51:07.202426Z",
          "shell.execute_reply.started": "2025-01-07T18:51:06.82131Z",
          "shell.execute_reply": "2025-01-07T18:51:07.201093Z"
        },
        "id": "wShGYeZJ6_ix",
        "outputId": "10128d20-93ab-4d0d-ac5b-9692d5bcde14",
        "colab": {
          "base_uri": "https://localhost:8080/",
          "height": 542
        }
      },
      "outputs": [
        {
          "output_type": "display_data",
          "data": {
            "text/plain": [
              "<Figure size 2000x1000 with 6 Axes>"
            ],
            "image/png": "[encoded data removed]"
          },
          "metadata": {}
        }
      ],
      "execution_count": null
    },
    {
      "cell_type": "code",
      "source": [],
      "metadata": {
        "id": "ZUWXVeAwnvFs"
      },
      "execution_count": null,
      "outputs": []
    },
    {
      "cell_type": "code",
      "source": [],
      "metadata": {
        "id": "6JeUfOgynqFj"
      },
      "execution_count": null,
      "outputs": []
    }
  ]
}